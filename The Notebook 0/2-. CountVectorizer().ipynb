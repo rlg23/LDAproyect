{
 "cells": [
  {
   "cell_type": "code",
   "execution_count": 1,
   "id": "27029239",
   "metadata": {},
   "outputs": [],
   "source": [
    "import config\n",
    "import logging\n",
    "\n",
    "from IPython import display\n",
    "from src.TPL import *\n",
    "import src.preprocessing as pre\n",
    "\n",
    "\n",
    "import numpy as np\n",
    "import pandas as pd\n",
    "import time \n",
    "import gensim \n",
    "from gensim import corpora, models, similarities\n",
    "from gensim.models import CoherenceModel\n",
    "import pyLDAvis.gensim_models\n",
    "import matplotlib.pyplot as plt\n",
    "from sklearn.model_selection import train_test_split\n",
    "import ftn\n",
    "import pickle\n",
    "\n",
    "%matplotlib inline\n",
    "%reload_ext autoreload\n",
    "%autoreload 2\n",
    "logging.basicConfig(level=logging.INFO)"
   ]
  },
  {
   "cell_type": "code",
   "execution_count": 2,
   "id": "017b5f26",
   "metadata": {},
   "outputs": [
    {
     "data": {
      "text/plain": [
       "{'startTimestamp': '2020-12-01T00:00:00.000',\n",
       " 'stopTimestamp': '2021-01-02T00:00:00.000',\n",
       " 'dataset_dir': '../../../data/raw',\n",
       " 'processed_dir': '../../../data/processed'}"
      ]
     },
     "execution_count": 2,
     "metadata": {},
     "output_type": "execute_result"
    }
   ],
   "source": [
    "config.ds_medium"
   ]
  },
  {
   "cell_type": "code",
   "execution_count": 10,
   "id": "a544be10",
   "metadata": {},
   "outputs": [],
   "source": [
    "class NumbersAndTelescopes(pre.Numbers, pre.Telescopes):\n",
    "    pass\n",
    "\n",
    "colorize1 = pre.Numbers()\n",
    "colorize2 = NumbersAndTelescopes()"
   ]
  },
  {
   "cell_type": "markdown",
   "id": "48b06c14",
   "metadata": {},
   "source": [
    "### CountVectorizer() para sentences:"
   ]
  },
  {
   "cell_type": "markdown",
   "id": "29c81c74",
   "metadata": {},
   "source": [
    "El problema es el siguiente, si bien el modelo LDA_sklt está funcionando y arroja resultados potencialmente útiles, le está faltando el respeto (mejor dicho, le estoy faltando el respeto) a la premisa principal para trabajar el dataset: cada evento es un token, debido a que CountVecotirezer() crea los tokens palabra por palabra. Veamos un ejemplo:"
   ]
  },
  {
   "cell_type": "code",
   "execution_count": 44,
   "id": "5240a574",
   "metadata": {},
   "outputs": [
    {
     "data": {
      "text/plain": [
       "array(['and', 'document', 'first', 'is', 'one', 'second', 'the', 'third',\n",
       "       'this'], dtype=object)"
      ]
     },
     "execution_count": 44,
     "metadata": {},
     "output_type": "execute_result"
    }
   ],
   "source": [
    "#Importamos la herramienta:\n",
    "from sklearn.feature_extraction.text import CountVectorizer\n",
    "\n",
    "#Corpus para ejemplificar:\n",
    "corp = [\n",
    "    'This is the first document.',\n",
    "    'This is the first document.',\n",
    "    'This document is the second document.',\n",
    "    'And this is the third one.',\n",
    "    'Is this the first document?',]\n",
    "#Clase del CountVectorizer()\n",
    "vectorizer = CountVectorizer()\n",
    "#Aplicamos el CV\n",
    "X = vectorizer.fit_transform(corp)\n",
    "#Mostramos los nombres:\n",
    "vectorizer.get_feature_names_out()"
   ]
  },
  {
   "cell_type": "code",
   "execution_count": 4,
   "id": "e0fff3b3",
   "metadata": {},
   "outputs": [
    {
     "data": {
      "text/plain": [
       "array([[0, 1, 1, 1, 0, 0, 1, 0, 1],\n",
       "       [0, 1, 1, 1, 0, 0, 1, 0, 1],\n",
       "       [0, 2, 0, 1, 0, 1, 1, 0, 1],\n",
       "       [1, 0, 0, 1, 1, 0, 1, 1, 1],\n",
       "       [0, 1, 1, 1, 0, 0, 1, 0, 1]], dtype=int64)"
      ]
     },
     "execution_count": 4,
     "metadata": {},
     "output_type": "execute_result"
    }
   ],
   "source": [
    "#Mostramos un array que contiene la frecuencia de aparición de todos los tokens del corpus para cada oración\n",
    "X.toarray()"
   ]
  },
  {
   "cell_type": "markdown",
   "id": "90a603e7",
   "metadata": {},
   "source": [
    "Como se puede ver, divide a cada oración palabra por palabra y luego tokeniza. Lo que queremos entonces es evitar que haga esta división y así trabajar event-token. Para ello, reemplacemos cada espacio dentro de la oración por un \"_\" y veamos en qué resulta"
   ]
  },
  {
   "cell_type": "code",
   "execution_count": 5,
   "id": "a1f5527d",
   "metadata": {},
   "outputs": [
    {
     "data": {
      "text/plain": [
       "['This_is_the_first_document.',\n",
       " 'This_is_the_first_document.',\n",
       " 'This_document_is_the_second_document.',\n",
       " 'And_this_is_the_third_one.',\n",
       " 'Is_this_the_first_document?']"
      ]
     },
     "execution_count": 5,
     "metadata": {},
     "output_type": "execute_result"
    }
   ],
   "source": [
    "corp_sin_espacios = list(map(lambda x: x.replace(' ','_'), corp))\n",
    "corp_sin_espacios"
   ]
  },
  {
   "cell_type": "code",
   "execution_count": 6,
   "id": "af659ad9",
   "metadata": {},
   "outputs": [
    {
     "data": {
      "text/plain": [
       "array(['and_this_is_the_third_one', 'is_this_the_first_document',\n",
       "       'this_document_is_the_second_document',\n",
       "       'this_is_the_first_document'], dtype=object)"
      ]
     },
     "execution_count": 6,
     "metadata": {},
     "output_type": "execute_result"
    }
   ],
   "source": [
    "Y = vectorizer.fit_transform(corp_sin_espacios)\n",
    "#Mostramos los nombres:\n",
    "vectorizer.get_feature_names_out()"
   ]
  },
  {
   "cell_type": "code",
   "execution_count": 7,
   "id": "caa25c00",
   "metadata": {},
   "outputs": [
    {
     "data": {
      "text/plain": [
       "array([[0, 0, 0, 1],\n",
       "       [0, 0, 0, 1],\n",
       "       [0, 0, 1, 0],\n",
       "       [1, 0, 0, 0],\n",
       "       [0, 1, 0, 0]], dtype=int64)"
      ]
     },
     "execution_count": 7,
     "metadata": {},
     "output_type": "execute_result"
    }
   ],
   "source": [
    "Y.toarray()"
   ]
  },
  {
   "cell_type": "markdown",
   "id": "c100dee4",
   "metadata": {},
   "source": [
    "Mucho mejor que antes, ahora que contamos con una hipótesis para solucionar el problema, probémosla para nuestro dataset. "
   ]
  },
  {
   "cell_type": "code",
   "execution_count": 8,
   "id": "3d350087",
   "metadata": {},
   "outputs": [
    {
     "data": {
      "text/html": [
       "<div>\n",
       "<style scoped>\n",
       "    .dataframe tbody tr th:only-of-type {\n",
       "        vertical-align: middle;\n",
       "    }\n",
       "\n",
       "    .dataframe tbody tr th {\n",
       "        vertical-align: top;\n",
       "    }\n",
       "\n",
       "    .dataframe thead th {\n",
       "        text-align: right;\n",
       "    }\n",
       "</style>\n",
       "<table border=\"1\" class=\"dataframe\">\n",
       "  <thead>\n",
       "    <tr style=\"text-align: right;\">\n",
       "      <th></th>\n",
       "      <th>START</th>\n",
       "      <th>END</th>\n",
       "      <th>TIMEOUT</th>\n",
       "      <th>system</th>\n",
       "      <th>procname</th>\n",
       "      <th>TPL_ID</th>\n",
       "      <th>ERROR</th>\n",
       "      <th>Aborted</th>\n",
       "      <th>estimated (s)</th>\n",
       "      <th>real (s)</th>\n",
       "      <th>diff (s)</th>\n",
       "      <th>SECONDS</th>\n",
       "    </tr>\n",
       "  </thead>\n",
       "  <tbody>\n",
       "    <tr>\n",
       "      <th>0</th>\n",
       "      <td>2020-12-01 06:58:21.518000+00:00</td>\n",
       "      <td>2020-12-01 07:01:26.742000+00:00</td>\n",
       "      <td>False</td>\n",
       "      <td>PIONIER</td>\n",
       "      <td>bob_ins</td>\n",
       "      <td>PIONIER_gen_tec_scan</td>\n",
       "      <td>True</td>\n",
       "      <td>False</td>\n",
       "      <td>5</td>\n",
       "      <td>2</td>\n",
       "      <td>3</td>\n",
       "      <td>185.0</td>\n",
       "    </tr>\n",
       "    <tr>\n",
       "      <th>4</th>\n",
       "      <td>2020-12-01 07:10:51.269000+00:00</td>\n",
       "      <td>2020-12-01 07:20:26.003000+00:00</td>\n",
       "      <td>False</td>\n",
       "      <td>PIONIER</td>\n",
       "      <td>bob_ins</td>\n",
       "      <td>PIONIER_obs_calibrator</td>\n",
       "      <td>False</td>\n",
       "      <td>False</td>\n",
       "      <td>308</td>\n",
       "      <td>935</td>\n",
       "      <td>387</td>\n",
       "      <td>574.0</td>\n",
       "    </tr>\n",
       "    <tr>\n",
       "      <th>5</th>\n",
       "      <td>2020-12-01 07:20:26.022000+00:00</td>\n",
       "      <td>2020-12-01 07:24:22.424000+00:00</td>\n",
       "      <td>False</td>\n",
       "      <td>PIONIER</td>\n",
       "      <td>bob_ins</td>\n",
       "      <td>PIONIER_gen_cal_kappa</td>\n",
       "      <td>False</td>\n",
       "      <td>False</td>\n",
       "      <td>125</td>\n",
       "      <td>356</td>\n",
       "      <td>151</td>\n",
       "      <td>236.0</td>\n",
       "    </tr>\n",
       "    <tr>\n",
       "      <th>6</th>\n",
       "      <td>2020-12-01 07:24:22.441000+00:00</td>\n",
       "      <td>2020-12-01 07:26:17.805000+00:00</td>\n",
       "      <td>False</td>\n",
       "      <td>PIONIER</td>\n",
       "      <td>bob_ins</td>\n",
       "      <td>PIONIER_gen_cal_dark</td>\n",
       "      <td>False</td>\n",
       "      <td>False</td>\n",
       "      <td>46</td>\n",
       "      <td>155</td>\n",
       "      <td>69</td>\n",
       "      <td>115.0</td>\n",
       "    </tr>\n",
       "    <tr>\n",
       "      <th>7</th>\n",
       "      <td>2020-12-01 07:26:38.306000+00:00</td>\n",
       "      <td>2020-12-01 07:29:55.510000+00:00</td>\n",
       "      <td>False</td>\n",
       "      <td>PIONIER</td>\n",
       "      <td>bob_ins</td>\n",
       "      <td>PIONIER_acq</td>\n",
       "      <td>True</td>\n",
       "      <td>False</td>\n",
       "      <td>400</td>\n",
       "      <td>317</td>\n",
       "      <td>43</td>\n",
       "      <td>197.0</td>\n",
       "    </tr>\n",
       "    <tr>\n",
       "      <th>...</th>\n",
       "      <td>...</td>\n",
       "      <td>...</td>\n",
       "      <td>...</td>\n",
       "      <td>...</td>\n",
       "      <td>...</td>\n",
       "      <td>...</td>\n",
       "      <td>...</td>\n",
       "      <td>...</td>\n",
       "      <td>...</td>\n",
       "      <td>...</td>\n",
       "      <td>...</td>\n",
       "      <td>...</td>\n",
       "    </tr>\n",
       "    <tr>\n",
       "      <th>2839</th>\n",
       "      <td>2021-01-01 19:09:48.738000+00:00</td>\n",
       "      <td>2021-01-01 19:10:13.501000+00:00</td>\n",
       "      <td>False</td>\n",
       "      <td>PIONIER</td>\n",
       "      <td>bob_ins</td>\n",
       "      <td>PIONIER_gen_tec_setup</td>\n",
       "      <td>False</td>\n",
       "      <td>False</td>\n",
       "      <td>30</td>\n",
       "      <td>25</td>\n",
       "      <td>5</td>\n",
       "      <td>24.0</td>\n",
       "    </tr>\n",
       "    <tr>\n",
       "      <th>2840</th>\n",
       "      <td>2021-01-01 19:10:13.517000+00:00</td>\n",
       "      <td>2021-01-01 19:11:33.481000+00:00</td>\n",
       "      <td>False</td>\n",
       "      <td>PIONIER</td>\n",
       "      <td>bob_ins</td>\n",
       "      <td>PIONIER_gen_tec_niobate</td>\n",
       "      <td>False</td>\n",
       "      <td>False</td>\n",
       "      <td>100</td>\n",
       "      <td>120</td>\n",
       "      <td>20</td>\n",
       "      <td>79.0</td>\n",
       "    </tr>\n",
       "    <tr>\n",
       "      <th>2841</th>\n",
       "      <td>2021-01-01 19:11:33.498000+00:00</td>\n",
       "      <td>2021-01-01 19:11:58.376000+00:00</td>\n",
       "      <td>False</td>\n",
       "      <td>PIONIER</td>\n",
       "      <td>bob_ins</td>\n",
       "      <td>PIONIER_gen_tec_setup</td>\n",
       "      <td>False</td>\n",
       "      <td>False</td>\n",
       "      <td>30</td>\n",
       "      <td>25</td>\n",
       "      <td>5</td>\n",
       "      <td>24.0</td>\n",
       "    </tr>\n",
       "    <tr>\n",
       "      <th>2842</th>\n",
       "      <td>2021-01-01 19:11:58.394000+00:00</td>\n",
       "      <td>2021-01-01 19:12:33.041000+00:00</td>\n",
       "      <td>False</td>\n",
       "      <td>PIONIER</td>\n",
       "      <td>bob_ins</td>\n",
       "      <td>PIONIER_gen_tec_standby</td>\n",
       "      <td>False</td>\n",
       "      <td>False</td>\n",
       "      <td>100</td>\n",
       "      <td>35</td>\n",
       "      <td>25</td>\n",
       "      <td>34.0</td>\n",
       "    </tr>\n",
       "    <tr>\n",
       "      <th>2844</th>\n",
       "      <td>2021-01-01 23:42:29.369000+00:00</td>\n",
       "      <td>2021-01-01 23:44:39.640000+00:00</td>\n",
       "      <td>False</td>\n",
       "      <td>PIONIER</td>\n",
       "      <td>bob_ins</td>\n",
       "      <td>PIONIER_gen_tec_fluxopt</td>\n",
       "      <td>False</td>\n",
       "      <td>False</td>\n",
       "      <td>-1</td>\n",
       "      <td>-1</td>\n",
       "      <td>-1</td>\n",
       "      <td>130.0</td>\n",
       "    </tr>\n",
       "  </tbody>\n",
       "</table>\n",
       "<p>2052 rows × 12 columns</p>\n",
       "</div>"
      ],
      "text/plain": [
       "                                START                              END  \\\n",
       "0    2020-12-01 06:58:21.518000+00:00 2020-12-01 07:01:26.742000+00:00   \n",
       "4    2020-12-01 07:10:51.269000+00:00 2020-12-01 07:20:26.003000+00:00   \n",
       "5    2020-12-01 07:20:26.022000+00:00 2020-12-01 07:24:22.424000+00:00   \n",
       "6    2020-12-01 07:24:22.441000+00:00 2020-12-01 07:26:17.805000+00:00   \n",
       "7    2020-12-01 07:26:38.306000+00:00 2020-12-01 07:29:55.510000+00:00   \n",
       "...                               ...                              ...   \n",
       "2839 2021-01-01 19:09:48.738000+00:00 2021-01-01 19:10:13.501000+00:00   \n",
       "2840 2021-01-01 19:10:13.517000+00:00 2021-01-01 19:11:33.481000+00:00   \n",
       "2841 2021-01-01 19:11:33.498000+00:00 2021-01-01 19:11:58.376000+00:00   \n",
       "2842 2021-01-01 19:11:58.394000+00:00 2021-01-01 19:12:33.041000+00:00   \n",
       "2844 2021-01-01 23:42:29.369000+00:00 2021-01-01 23:44:39.640000+00:00   \n",
       "\n",
       "      TIMEOUT   system procname                   TPL_ID  ERROR  Aborted  \\\n",
       "0       False  PIONIER  bob_ins     PIONIER_gen_tec_scan   True    False   \n",
       "4       False  PIONIER  bob_ins   PIONIER_obs_calibrator  False    False   \n",
       "5       False  PIONIER  bob_ins    PIONIER_gen_cal_kappa  False    False   \n",
       "6       False  PIONIER  bob_ins     PIONIER_gen_cal_dark  False    False   \n",
       "7       False  PIONIER  bob_ins              PIONIER_acq   True    False   \n",
       "...       ...      ...      ...                      ...    ...      ...   \n",
       "2839    False  PIONIER  bob_ins    PIONIER_gen_tec_setup  False    False   \n",
       "2840    False  PIONIER  bob_ins  PIONIER_gen_tec_niobate  False    False   \n",
       "2841    False  PIONIER  bob_ins    PIONIER_gen_tec_setup  False    False   \n",
       "2842    False  PIONIER  bob_ins  PIONIER_gen_tec_standby  False    False   \n",
       "2844    False  PIONIER  bob_ins  PIONIER_gen_tec_fluxopt  False    False   \n",
       "\n",
       "      estimated (s)  real (s)  diff (s)  SECONDS  \n",
       "0                 5         2         3    185.0  \n",
       "4               308       935       387    574.0  \n",
       "5               125       356       151    236.0  \n",
       "6                46       155        69    115.0  \n",
       "7               400       317        43    197.0  \n",
       "...             ...       ...       ...      ...  \n",
       "2839             30        25         5     24.0  \n",
       "2840            100       120        20     79.0  \n",
       "2841             30        25         5     24.0  \n",
       "2842            100        35        25     34.0  \n",
       "2844             -1        -1        -1    130.0  \n",
       "\n",
       "[2052 rows x 12 columns]"
      ]
     },
     "execution_count": 8,
     "metadata": {},
     "output_type": "execute_result"
    }
   ],
   "source": [
    "pionier1=TplPionier(config=config.ds_medium)\n",
    "# Some rows are small (<5 sec) or unbounded (>30m), this criteria will restrict to only the good ones\n",
    "pionier1.index = pionier1.index[pionier1.index[\"SECONDS\"] > 5]\n",
    "pionier1.index = pionier1.index[pionier1.index[\"SECONDS\"] < 1800]\n",
    "pionier1.index"
   ]
  },
  {
   "cell_type": "code",
   "execution_count": 11,
   "id": "d8803bb1",
   "metadata": {},
   "outputs": [
    {
     "data": {
      "text/plain": [
       "['Started at {} (underlined)',\n",
       " \"INS MODE = 'OBSERV-H'\",\n",
       " \"ISS IAS HMAG = '{}'\",\n",
       " \"SEQ OPL BEAM3 = '{}'\",\n",
       " \"SEQ OPL BEAM4 = '{}'\",\n",
       " \"INS DISP NAME = 'GRISM'\",\n",
       " \"TEL COU ALPHA = '{}'\",\n",
       " \"ISS BASELINE = 'large medium'\",\n",
       " \"TEL COU EPOCH = '{}'\",\n",
       " \"SEQ DL PRESET = 'T'\",\n",
       " \"ISS VLTITYPE = 'snapshot'\",\n",
       " \"SEQ OPL BEAM1 = '{}'\",\n",
       " \"SEQ OPL BEAM2 = '{}'\",\n",
       " \"SEQ PRESET = 'T'\",\n",
       " \"SEQ PUPIL = 'F'\",\n",
       " \"TEL COU DELTA = '{}'\",\n",
       " \"AOS AO MODE = 'FULL_AO'\",\n",
       " \"TEL COU PMA = '{}'\",\n",
       " \"TEL TARG ADDVELDELTA = '{}'\",\n",
       " \"TEL TARG EQUINOX = '{}'\",\n",
       " \"TEL TARG PMA = '{}'\",\n",
       " \"TEL COU PMD = '{}'\",\n",
       " \"TEL TARG ADDVELALPHA = '{}'\",\n",
       " \"TEL COU MAG = '{}'\",\n",
       " \"TEL COU EQUINOX = '{}'\",\n",
       " \"TEL TARG ALPHA = '{}'\",\n",
       " \"TEL TARG PMD = '{}E-{}'\",\n",
       " \"TEL DEL REF = '{}'\",\n",
       " \"TEL COU GSTYPE = 'ADAPT_OPT'\",\n",
       " \"TEL TARG DELTA = '{}'\",\n",
       " \"TEL DEL MODE = 'AUTO'\",\n",
       " \"TEL COU GSSOURCE = 'SCIENCE'\",\n",
       " \"TEL DELREF POS = '{}'\",\n",
       " \"TEL TARG EPOCH = '{}'\",\n",
       " 'Send command CHKMOON {},{},{} to process issifControl env. wvgvlti',\n",
       " 'Waiting (timeout {}) for pending replies to command CHKMOON id cmd0',\n",
       " 'Last reply to command CHKMOON id cmd0 received',\n",
       " 'Sending a PresetVLTI now',\n",
       " 'Clear ISS setup (blue)',\n",
       " 'Send command CLRSTP to issifControl@wvgvlti (blue)',\n",
       " 'Waiting (timeout {}) for pending replies to command CLRSTP id cmd0',\n",
       " 'Last reply to command CLRSTP id cmd0 received',\n",
       " 'Send command GETIAS to process issifControl env. wvgvlti',\n",
       " 'Waiting (timeout {}) for pending replies to command GETIAS id cmd0',\n",
       " 'Last reply to command GETIAS id cmd0 received',\n",
       " 'Stop Lab Guiding (blue)',\n",
       " 'Send command GETIAS to process issifControl env. wvgvlti',\n",
       " 'Waiting (timeout {}) for pending replies to command GETIAS id cmd0',\n",
       " 'Last reply to command GETIAS id cmd0 received',\n",
       " 'IAS = IRIS',\n",
       " 'Send command STOPLAG to process issifControl env. wvgvlti',\n",
       " 'Waiting (timeout {}) for pending replies to command STOPLAG id cmd0',\n",
       " 'Last reply to command STOPLAG id cmd0 received',\n",
       " 'Waiting (timeout ) for pending replies to command id OK',\n",
       " 'Last reply to command id OK received',\n",
       " 'Lab Guiding stopped',\n",
       " 'Creating Setup Buffer',\n",
       " 'Adding: TEL.TARG.ALPHA {}',\n",
       " 'Adding: TEL.TARG.ADDVELALPHA {}',\n",
       " 'Adding: TEL.TARG.PMA {}',\n",
       " 'Adding: TEL.TARG.EPOCH {}',\n",
       " 'Adding: TEL.TARG.PMD {}E-{}',\n",
       " 'Adding: TEL.TARG.EQUINOX {}',\n",
       " 'Adding: TEL.TARG.DELTA {}',\n",
       " 'Adding: TEL.TARG.ADDVELDELTA {}',\n",
       " 'Adding: COU.AG.TYPE ADAPT_OPT',\n",
       " 'Adding: COU.AG.PMA {}',\n",
       " 'Adding: COU.AG.DELTA {}',\n",
       " 'Adding: COU.AG.ALPHA {}',\n",
       " 'Adding: COU.GS.MAG {}',\n",
       " 'Adding: COU.AG.EPOCH {}',\n",
       " 'Adding: COU.AG.GSSOURCE SCIENCE',\n",
       " 'Adding: COU.AG.EQUINOX {}',\n",
       " 'Adding: COU.AG.PMD {}',\n",
       " 'Adding: DEL.REF.NAME dl1',\n",
       " 'Adding: DEL.REF.MODE AUTO',\n",
       " 'Adding: DEL.FT.SENSOR NONE',\n",
       " 'Adding: DEL.REF.OPL {}',\n",
       " 'Adding: ISS.IAS.HMAG {}',\n",
       " '... TEL.TARG.EQUINOX {} TEL.TARG.DELTA {} TEL.TARG.ADDVELDELTA {} COU.AG.TYPE ADAPT_OPT COU.AG.PMA {} COU.AG.DELTA {} COU.AG.ALPHA {} COU.GS.MAG',\n",
       " '... {} COU.AG.EPOCH {} COU.AG.GSSOURCE SCIENCE COU.AG.EQUINOX {} COU.AG.PMD {} DEL.REF.NAME dl1 DEL.REF.MODE AUTO DEL.FT.SENSOR NONE DEL.REF.OPL {} ISS.IAS.HMAG',\n",
       " 'Send command SETUP ,,TEL.TARG.TYPE COORDINATE TEL.TARG.ALPHA {} TEL.TARG.ADDVELALPHA {} TEL.TARG.PMA {} TEL.TARG.EPOCH {} TEL.TARG.PMD {}E-{}',\n",
       " '... {} to process issifControl env. wvgvlti',\n",
       " 'Waiting (timeout {}) for pending replies to command SETUP id cmd0',\n",
       " 'Clean Logs : group vlt hour {} max. size {}',\n",
       " 'OBS.EXEC.LOAD OB loaded',\n",
       " 'DET.DIT \"{}\" -> \"{}\"',\n",
       " 'TPL.CHANGE template parameters have been edited',\n",
       " 'TPL.EXEC.START Template execution started',\n",
       " 'OBS.EXEC.START OB execution started',\n",
       " '(OBS.NAME: ObservationConf // OBS.ID: {})',\n",
       " 'OB started at {}',\n",
       " 'Started at {} (underlined)',\n",
       " 'PIONIER_gen_tec_scan -- Scanning mode setup: Normal (yellow)',\n",
       " \"DET GAIN = 'HIGH'\",\n",
       " \"DET TRK ST = 'T'\",\n",
       " \"DET DIT = '{}'\",\n",
       " 'INS.LAMP2.STOP Lamp turned off.',\n",
       " 'INS.LAMP1.STOP Lamp turned off.',\n",
       " 'STATUS -function INS.MODE (blue)',\n",
       " \"Send command 'STATUS' ',INS.MODE,FALSE' to sub-system 'ICS' ...\",\n",
       " \"Reply (not last) to 'STATUS' received: 'INS.MODE PARK' (len='{}')(last reply will be ignored)\",\n",
       " 'INS.MODE \"PARK\" (SpringGreen4)',\n",
       " 'beginning exposure {} of {} ({}) ... (underlined)',\n",
       " 'SETUP -expoId {} -function INS.MODE PARK DET.SCAN.ST F (blue)',\n",
       " 'Executing SETUP command ...',\n",
       " 'Forward(b) SETUP to DCS',\n",
       " '{} - ic0fbInsModel.C:{}: NOTICE: Irrelevant setup key received: INS.SHUT5.ST',\n",
       " '{} - ic0fbInsModel.C:{}: NOTICE: Irrelevant setup key(s) contained in SETUP buffer:',\n",
       " '{} - ic0fbControlSrv.C:{}: Changing substate from: IDLE to: BUSY',\n",
       " 'OBS.EXEC.ABORT OB execution aborted',\n",
       " 'INS.OPTI1.MOVE Motion execution.',\n",
       " 'TPL.EXEC.ABORT template execution aborted',\n",
       " 'UNFORSEEN: template error',\n",
       " '{} - ic0fbiDevDrvDiscreteMotor.C:{}: CFOU: Already in requested, named position: EMPTY',\n",
       " '{} - ic0fbControlSrv.C:{}: Changing substate from: BUSY to: IDLE',\n",
       " 'SETUP command done.',\n",
       " '{} (SpringGreen4)',\n",
       " 'SETUP -expoId {} -function DET.DIT {} DET.TRK.ST T DET.TRK.GAIN {}',\n",
       " '... DET.POLAR {} INS.SHUT1.ST T INS.SHUT2.ST T INS.SHUT3.ST T INS.SHUT4.ST T INS.SHUT5.ST T (blue)',\n",
       " 'Executing SETUP command ...',\n",
       " 'Forward(b) SETUP to DCS',\n",
       " '{} - ic0fbInsModel.C:{}: NOTICE: Irrelevant setup key(s) contained in SETUP buffer:',\n",
       " '{} - ic0fbInsModel.C:{}: NOTICE: Irrelevant setup key received: INS.SHUT5.ST',\n",
       " '{} - ic0fbControlSrv.C:{}: Changing substate from: IDLE to: BUSY',\n",
       " '{} - ic0fbControlSrv.C:{}: Changing substate from: BUSY to: IDLE',\n",
       " 'SETUP command done.',\n",
       " '{} (SpringGreen4)',\n",
       " 'STATUS -function DET.DL.COUNT (blue)',\n",
       " \"Send command 'STATUS' ',DET.DL.COUNT,FALSE' to sub-system 'DCS' ...\",\n",
       " \"Last Reply to 'STATUS' from 'DCS' received: 'DET.DL.COUNT {}' (len='{}')\",\n",
       " 'DET.DL.COUNT {} (SpringGreen4)',\n",
       " 'SETUP -expoId {} -function DET.SCAN.NREADS {} DET.SCAN.DL1.STROKE - DET.SCAN.DL2.STROKE {} DET.SCAN.DL3.STROKE DET.SCAN.DL4.STROKE {} (blue)',\n",
       " 'Forward(b) SETUP to DCS',\n",
       " 'Executing SETUP command ...',\n",
       " 'SETUP command done.',\n",
       " '{} (SpringGreen4)',\n",
       " 'Executing SETUP command ...',\n",
       " 'SETUP -expoId {} -function DET.SCAN.ST T (blue)',\n",
       " 'Forward(b) SETUP to DCS',\n",
       " 'pndacqERR_SCAN_SETUP : Invalid setup for scan; at least {} sub-windows must be defined',\n",
       " 'pndacqERR_SCAN_SETUP : Invalid setup for scan; at least {} sub-windows must be defined',\n",
       " 'evhERR_CMD_ERR_REPLY : Received an error reply to command SETUP from process pndconServer on environment wpnr',\n",
       " 'evhERR_CMD_ERR_REPLY : Received an error reply to command SETUP from process pndconServer on environment wpnr',\n",
       " 'bossERR_SUBSYSTEM_REPLY : Error reply received from sub-system DCS for command SETUP',\n",
       " 'bossERR_CMD_FAILED : Error during the execution of command SETUP.',\n",
       " 'bossERR_CMD_FAILED : Error during the execution of command SETUP.',\n",
       " 'bossERR_SUBSYSTEM_REPLY : Error reply received from sub-system DCS for command SETUP',\n",
       " '##SETUP command failed.',\n",
       " 'Error during the execution of command SETUP. (red)',\n",
       " 'Finished in {} seconds at {} (underlined)',\n",
       " 'TplExecTimeStats: TPL.ID PIONIER_gen_tec_scan estimated {}:{}:{} real {}:{}:{} diff {} seconds ({}:{}:{})']"
      ]
     },
     "execution_count": 11,
     "metadata": {},
     "output_type": "execute_result"
    }
   ],
   "source": [
    "#Trace con los eventos colorizados que queremos convertir en tokens:\n",
    "primerafila=[]\n",
    "for a in pionier1.load_trace(0)[\"event\"]:\n",
    "    primerafila.append(colorize2.color(a))\n",
    "#Mostramos la trace\n",
    "primerafila"
   ]
  },
  {
   "cell_type": "code",
   "execution_count": 12,
   "id": "a7162533",
   "metadata": {},
   "outputs": [
    {
     "data": {
      "text/plain": [
       "['Started_at_{}_(underlined)',\n",
       " \"INS_MODE_=_'OBSERV-H'\",\n",
       " \"ISS_IAS_HMAG_=_'{}'\",\n",
       " \"SEQ_OPL_BEAM3_=_'{}'\",\n",
       " \"SEQ_OPL_BEAM4_=_'{}'\",\n",
       " \"INS_DISP_NAME_=_'GRISM'\",\n",
       " \"TEL_COU_ALPHA_=_'{}'\",\n",
       " \"ISS_BASELINE_=_'large_medium'\",\n",
       " \"TEL_COU_EPOCH_=_'{}'\",\n",
       " \"SEQ_DL_PRESET_=_'T'\",\n",
       " \"ISS_VLTITYPE_=_'snapshot'\",\n",
       " \"SEQ_OPL_BEAM1_=_'{}'\",\n",
       " \"SEQ_OPL_BEAM2_=_'{}'\",\n",
       " \"SEQ_PRESET_=_'T'\",\n",
       " \"SEQ_PUPIL_=_'F'\",\n",
       " \"TEL_COU_DELTA_=_'{}'\",\n",
       " \"AOS_AO_MODE_=_'FULL_AO'\",\n",
       " \"TEL_COU_PMA_=_'{}'\",\n",
       " \"TEL_TARG_ADDVELDELTA_=_'{}'\",\n",
       " \"TEL_TARG_EQUINOX_=_'{}'\",\n",
       " \"TEL_TARG_PMA_=_'{}'\",\n",
       " \"TEL_COU_PMD_=_'{}'\",\n",
       " \"TEL_TARG_ADDVELALPHA_=_'{}'\",\n",
       " \"TEL_COU_MAG_=_'{}'\",\n",
       " \"TEL_COU_EQUINOX_=_'{}'\",\n",
       " \"TEL_TARG_ALPHA_=_'{}'\",\n",
       " \"TEL_TARG_PMD_=_'{}E-{}'\",\n",
       " \"TEL_DEL_REF_=_'{}'\",\n",
       " \"TEL_COU_GSTYPE_=_'ADAPT_OPT'\",\n",
       " \"TEL_TARG_DELTA_=_'{}'\",\n",
       " \"TEL_DEL_MODE_=_'AUTO'\",\n",
       " \"TEL_COU_GSSOURCE_=_'SCIENCE'\",\n",
       " \"TEL_DELREF_POS_=_'{}'\",\n",
       " \"TEL_TARG_EPOCH_=_'{}'\",\n",
       " 'Send_command_CHKMOON_{},{},{}_to_process_issifControl_env._wvgvlti',\n",
       " 'Waiting_(timeout_{})_for_pending_replies_to_command_CHKMOON_id_cmd0',\n",
       " 'Last_reply_to_command_CHKMOON_id_cmd0_received',\n",
       " 'Sending_a_PresetVLTI_now',\n",
       " 'Clear_ISS_setup_(blue)',\n",
       " 'Send_command_CLRSTP_to_issifControl@wvgvlti_(blue)',\n",
       " 'Waiting_(timeout_{})_for_pending_replies_to_command_CLRSTP_id_cmd0',\n",
       " 'Last_reply_to_command_CLRSTP_id_cmd0_received',\n",
       " 'Send_command_GETIAS_to_process_issifControl_env._wvgvlti',\n",
       " 'Waiting_(timeout_{})_for_pending_replies_to_command_GETIAS_id_cmd0',\n",
       " 'Last_reply_to_command_GETIAS_id_cmd0_received',\n",
       " 'Stop_Lab_Guiding_(blue)',\n",
       " 'Send_command_GETIAS_to_process_issifControl_env._wvgvlti',\n",
       " 'Waiting_(timeout_{})_for_pending_replies_to_command_GETIAS_id_cmd0',\n",
       " 'Last_reply_to_command_GETIAS_id_cmd0_received',\n",
       " 'IAS_=_IRIS',\n",
       " 'Send_command_STOPLAG_to_process_issifControl_env._wvgvlti',\n",
       " 'Waiting_(timeout_{})_for_pending_replies_to_command_STOPLAG_id_cmd0',\n",
       " 'Last_reply_to_command_STOPLAG_id_cmd0_received',\n",
       " 'Waiting_(timeout_)_for_pending_replies_to_command_id_OK',\n",
       " 'Last_reply_to_command_id_OK_received',\n",
       " 'Lab_Guiding_stopped',\n",
       " 'Creating_Setup_Buffer',\n",
       " 'Adding:_TEL.TARG.ALPHA_{}',\n",
       " 'Adding:_TEL.TARG.ADDVELALPHA_{}',\n",
       " 'Adding:_TEL.TARG.PMA_{}',\n",
       " 'Adding:_TEL.TARG.EPOCH_{}',\n",
       " 'Adding:_TEL.TARG.PMD_{}E-{}',\n",
       " 'Adding:_TEL.TARG.EQUINOX_{}',\n",
       " 'Adding:_TEL.TARG.DELTA_{}',\n",
       " 'Adding:_TEL.TARG.ADDVELDELTA_{}',\n",
       " 'Adding:_COU.AG.TYPE_ADAPT_OPT',\n",
       " 'Adding:_COU.AG.PMA_{}',\n",
       " 'Adding:_COU.AG.DELTA_{}',\n",
       " 'Adding:_COU.AG.ALPHA_{}',\n",
       " 'Adding:_COU.GS.MAG_{}',\n",
       " 'Adding:_COU.AG.EPOCH_{}',\n",
       " 'Adding:_COU.AG.GSSOURCE_SCIENCE',\n",
       " 'Adding:_COU.AG.EQUINOX_{}',\n",
       " 'Adding:_COU.AG.PMD_{}',\n",
       " 'Adding:_DEL.REF.NAME_dl1',\n",
       " 'Adding:_DEL.REF.MODE_AUTO',\n",
       " 'Adding:_DEL.FT.SENSOR_NONE',\n",
       " 'Adding:_DEL.REF.OPL_{}',\n",
       " 'Adding:_ISS.IAS.HMAG_{}',\n",
       " '..._TEL.TARG.EQUINOX_{}_TEL.TARG.DELTA_{}_TEL.TARG.ADDVELDELTA_{}_COU.AG.TYPE_ADAPT_OPT_COU.AG.PMA_{}_COU.AG.DELTA_{}_COU.AG.ALPHA_{}_COU.GS.MAG',\n",
       " '..._{}_COU.AG.EPOCH_{}_COU.AG.GSSOURCE_SCIENCE_COU.AG.EQUINOX_{}_COU.AG.PMD_{}_DEL.REF.NAME_dl1_DEL.REF.MODE_AUTO_DEL.FT.SENSOR_NONE_DEL.REF.OPL_{}_ISS.IAS.HMAG',\n",
       " 'Send_command_SETUP_,,TEL.TARG.TYPE_COORDINATE_TEL.TARG.ALPHA_{}_TEL.TARG.ADDVELALPHA_{}_TEL.TARG.PMA_{}_TEL.TARG.EPOCH_{}_TEL.TARG.PMD_{}E-{}',\n",
       " '..._{}_to_process_issifControl_env._wvgvlti',\n",
       " 'Waiting_(timeout_{})_for_pending_replies_to_command_SETUP_id_cmd0',\n",
       " 'Clean_Logs_:_group_vlt_hour_{}_max._size_{}',\n",
       " 'OBS.EXEC.LOAD_OB_loaded',\n",
       " 'DET.DIT_\"{}\"_->_\"{}\"',\n",
       " 'TPL.CHANGE_template_parameters_have_been_edited',\n",
       " 'TPL.EXEC.START_Template_execution_started',\n",
       " 'OBS.EXEC.START_OB_execution_started',\n",
       " '(OBS.NAME:_ObservationConf_//_OBS.ID:_{})',\n",
       " 'OB_started_at_{}',\n",
       " 'Started_at_{}_(underlined)',\n",
       " 'PIONIER_gen_tec_scan_--_Scanning_mode_setup:_Normal_(yellow)',\n",
       " \"DET_GAIN_=_'HIGH'\",\n",
       " \"DET_TRK_ST_=_'T'\",\n",
       " \"DET_DIT_=_'{}'\",\n",
       " 'INS.LAMP2.STOP_Lamp_turned_off.',\n",
       " 'INS.LAMP1.STOP_Lamp_turned_off.',\n",
       " 'STATUS_-function_INS.MODE_(blue)',\n",
       " \"Send_command_'STATUS'_',INS.MODE,FALSE'_to_sub-system_'ICS'_...\",\n",
       " \"Reply_(not_last)_to_'STATUS'_received:_'INS.MODE_PARK'_(len='{}')(last_reply_will_be_ignored)\",\n",
       " 'INS.MODE_\"PARK\"_(SpringGreen4)',\n",
       " 'beginning_exposure_{}_of_{}_({})_..._(underlined)',\n",
       " 'SETUP_-expoId_{}_-function_INS.MODE_PARK_DET.SCAN.ST_F_(blue)',\n",
       " 'Executing_SETUP_command_...',\n",
       " 'Forward(b)_SETUP_to_DCS',\n",
       " '{}_-_ic0fbInsModel.C:{}:_NOTICE:_Irrelevant_setup_key_received:_INS.SHUT5.ST',\n",
       " '{}_-_ic0fbInsModel.C:{}:_NOTICE:_Irrelevant_setup_key(s)_contained_in_SETUP_buffer:',\n",
       " '{}_-_ic0fbControlSrv.C:{}:_Changing_substate_from:_IDLE_to:_BUSY',\n",
       " 'OBS.EXEC.ABORT_OB_execution_aborted',\n",
       " 'INS.OPTI1.MOVE_Motion_execution.',\n",
       " 'TPL.EXEC.ABORT_template_execution_aborted',\n",
       " 'UNFORSEEN:_template_error',\n",
       " '{}_-_ic0fbiDevDrvDiscreteMotor.C:{}:_CFOU:_Already_in_requested,_named_position:_EMPTY',\n",
       " '{}_-_ic0fbControlSrv.C:{}:_Changing_substate_from:_BUSY_to:_IDLE',\n",
       " 'SETUP_command_done.',\n",
       " '{}_(SpringGreen4)',\n",
       " 'SETUP_-expoId_{}_-function_DET.DIT_{}_DET.TRK.ST_T_DET.TRK.GAIN_{}',\n",
       " '..._DET.POLAR_{}_INS.SHUT1.ST_T_INS.SHUT2.ST_T_INS.SHUT3.ST_T_INS.SHUT4.ST_T_INS.SHUT5.ST_T_(blue)',\n",
       " 'Executing_SETUP_command_...',\n",
       " 'Forward(b)_SETUP_to_DCS',\n",
       " '{}_-_ic0fbInsModel.C:{}:_NOTICE:_Irrelevant_setup_key(s)_contained_in_SETUP_buffer:',\n",
       " '{}_-_ic0fbInsModel.C:{}:_NOTICE:_Irrelevant_setup_key_received:_INS.SHUT5.ST',\n",
       " '{}_-_ic0fbControlSrv.C:{}:_Changing_substate_from:_IDLE_to:_BUSY',\n",
       " '{}_-_ic0fbControlSrv.C:{}:_Changing_substate_from:_BUSY_to:_IDLE',\n",
       " 'SETUP_command_done.',\n",
       " '{}_(SpringGreen4)',\n",
       " 'STATUS_-function_DET.DL.COUNT_(blue)',\n",
       " \"Send_command_'STATUS'_',DET.DL.COUNT,FALSE'_to_sub-system_'DCS'_...\",\n",
       " \"Last_Reply_to_'STATUS'_from_'DCS'_received:_'DET.DL.COUNT_{}'_(len='{}')\",\n",
       " 'DET.DL.COUNT_{}_(SpringGreen4)',\n",
       " 'SETUP_-expoId_{}_-function_DET.SCAN.NREADS_{}_DET.SCAN.DL1.STROKE_-_DET.SCAN.DL2.STROKE_{}_DET.SCAN.DL3.STROKE_DET.SCAN.DL4.STROKE_{}_(blue)',\n",
       " 'Forward(b)_SETUP_to_DCS',\n",
       " 'Executing_SETUP_command_...',\n",
       " 'SETUP_command_done.',\n",
       " '{}_(SpringGreen4)',\n",
       " 'Executing_SETUP_command_...',\n",
       " 'SETUP_-expoId_{}_-function_DET.SCAN.ST_T_(blue)',\n",
       " 'Forward(b)_SETUP_to_DCS',\n",
       " 'pndacqERR_SCAN_SETUP_:_Invalid_setup_for_scan;_at_least_{}_sub-windows_must_be_defined',\n",
       " 'pndacqERR_SCAN_SETUP_:_Invalid_setup_for_scan;_at_least_{}_sub-windows_must_be_defined',\n",
       " 'evhERR_CMD_ERR_REPLY_:_Received_an_error_reply_to_command_SETUP_from_process_pndconServer_on_environment_wpnr',\n",
       " 'evhERR_CMD_ERR_REPLY_:_Received_an_error_reply_to_command_SETUP_from_process_pndconServer_on_environment_wpnr',\n",
       " 'bossERR_SUBSYSTEM_REPLY_:_Error_reply_received_from_sub-system_DCS_for_command_SETUP',\n",
       " 'bossERR_CMD_FAILED_:_Error_during_the_execution_of_command_SETUP.',\n",
       " 'bossERR_CMD_FAILED_:_Error_during_the_execution_of_command_SETUP.',\n",
       " 'bossERR_SUBSYSTEM_REPLY_:_Error_reply_received_from_sub-system_DCS_for_command_SETUP',\n",
       " '##SETUP_command_failed.',\n",
       " 'Error_during_the_execution_of_command_SETUP._(red)',\n",
       " 'Finished_in_{}_seconds_at_{}_(underlined)',\n",
       " 'TplExecTimeStats:_TPL.ID_PIONIER_gen_tec_scan_estimated_{}:{}:{}_real_{}:{}:{}_diff_{}_seconds_({}:{}:{})']"
      ]
     },
     "execution_count": 12,
     "metadata": {},
     "output_type": "execute_result"
    }
   ],
   "source": [
    "#Trace con los espacios cambiados por \"_\" (SE= sin espacios)\n",
    "primerafila_SE=list(map(lambda x: x.replace(' ','_'), primerafila))\n",
    "primerafila_SE"
   ]
  },
  {
   "cell_type": "markdown",
   "id": "bc1682b7",
   "metadata": {},
   "source": [
    "De momento va todo bien, ahora tocaría expandir este cambio al resto del dataset, para ello, desmembremos la función generate_serie (que es la que utilizamos para preparar la data en los otros ficheros)"
   ]
  },
  {
   "cell_type": "code",
   "execution_count": 13,
   "id": "ce26e614",
   "metadata": {},
   "outputs": [],
   "source": [
    "class NumbersAndTelescopes(pre.Numbers, pre.Telescopes):\n",
    "    pass\n",
    "\n",
    "colorize1 = pre.Numbers()\n",
    "colorize2 = NumbersAndTelescopes()"
   ]
  },
  {
   "cell_type": "code",
   "execution_count": 14,
   "id": "9e7971df",
   "metadata": {},
   "outputs": [],
   "source": [
    "def generate_serie_SE(obs): \n",
    "    #we create the first row for our serie:\n",
    "    firstrow=[]\n",
    "    rows=[]\n",
    "    for a in obs.load_trace(0)[\"event\"]:\n",
    "        firstrow.append(colorize2.color(a))\n",
    "        #hacemos el cambio para la primera fila:\n",
    "        firstrow=list(map(lambda x: x.replace(' ','_'), firstrow))\n",
    "        \n",
    "    #and then we create the serie:\n",
    "    serie= pd.Series([firstrow])\n",
    "    \n",
    "    #Finally we repeat this process to create the entire serie\n",
    "    for i in range(1, len(obs.index)):\n",
    "    \n",
    "        for a in obs.load_trace(i)[\"event\"]:\n",
    "            rows.append(colorize2.color(a))\n",
    "            #Expandimos el cambio para el resto de la data\n",
    "            rows=list(map(lambda x: x.replace(' ','_'), rows))\n",
    "                \n",
    "        serie=serie.append(pd.Series([rows],index=[i]))\n",
    "        rows=[]\n",
    "    \n",
    "    return serie"
   ]
  },
  {
   "cell_type": "markdown",
   "id": "91019f8f",
   "metadata": {},
   "source": [
    "Pongan a correr nuestra función y veamos cómo queda la data:"
   ]
  },
  {
   "cell_type": "code",
   "execution_count": 15,
   "id": "ede65766",
   "metadata": {},
   "outputs": [
    {
     "name": "stdout",
     "output_type": "stream",
     "text": [
      "CPU times: total: 1min 24s\n",
      "Wall time: 1min 24s\n"
     ]
    }
   ],
   "source": [
    "%%time\n",
    "pionier1_SE=generate_serie_SE(pionier1)"
   ]
  },
  {
   "cell_type": "code",
   "execution_count": 16,
   "id": "4b12caa4",
   "metadata": {},
   "outputs": [
    {
     "data": {
      "text/plain": [
       "['Started_at_{}_(underlined)',\n",
       " \"INS_MODE_=_'OBSERV-H'\",\n",
       " \"ISS_IAS_HMAG_=_'{}'\",\n",
       " \"SEQ_OPL_BEAM3_=_'{}'\",\n",
       " \"SEQ_OPL_BEAM4_=_'{}'\",\n",
       " \"INS_DISP_NAME_=_'GRISM'\",\n",
       " \"TEL_COU_ALPHA_=_'{}'\",\n",
       " \"ISS_BASELINE_=_'large_medium'\",\n",
       " \"TEL_COU_EPOCH_=_'{}'\",\n",
       " \"SEQ_DL_PRESET_=_'T'\",\n",
       " \"ISS_VLTITYPE_=_'snapshot'\",\n",
       " \"SEQ_OPL_BEAM1_=_'{}'\",\n",
       " \"SEQ_OPL_BEAM2_=_'{}'\",\n",
       " \"SEQ_PRESET_=_'T'\",\n",
       " \"SEQ_PUPIL_=_'F'\",\n",
       " \"TEL_COU_DELTA_=_'{}'\",\n",
       " \"AOS_AO_MODE_=_'FULL_AO'\",\n",
       " \"TEL_COU_PMA_=_'{}'\",\n",
       " \"TEL_TARG_ADDVELDELTA_=_'{}'\",\n",
       " \"TEL_TARG_EQUINOX_=_'{}'\",\n",
       " \"TEL_TARG_PMA_=_'{}'\",\n",
       " \"TEL_COU_PMD_=_'{}'\",\n",
       " \"TEL_TARG_ADDVELALPHA_=_'{}'\",\n",
       " \"TEL_COU_MAG_=_'{}'\",\n",
       " \"TEL_COU_EQUINOX_=_'{}'\",\n",
       " \"TEL_TARG_ALPHA_=_'{}'\",\n",
       " \"TEL_TARG_PMD_=_'{}E-{}'\",\n",
       " \"TEL_DEL_REF_=_'{}'\",\n",
       " \"TEL_COU_GSTYPE_=_'ADAPT_OPT'\",\n",
       " \"TEL_TARG_DELTA_=_'{}'\",\n",
       " \"TEL_DEL_MODE_=_'AUTO'\",\n",
       " \"TEL_COU_GSSOURCE_=_'SCIENCE'\",\n",
       " \"TEL_DELREF_POS_=_'{}'\",\n",
       " \"TEL_TARG_EPOCH_=_'{}'\",\n",
       " 'Send_command_CHKMOON_{},{},{}_to_process_issifControl_env._wvgvlti',\n",
       " 'Waiting_(timeout_{})_for_pending_replies_to_command_CHKMOON_id_cmd0',\n",
       " 'Last_reply_to_command_CHKMOON_id_cmd0_received',\n",
       " 'Sending_a_PresetVLTI_now',\n",
       " 'Clear_ISS_setup_(blue)',\n",
       " 'Send_command_CLRSTP_to_issifControl@wvgvlti_(blue)',\n",
       " 'Waiting_(timeout_{})_for_pending_replies_to_command_CLRSTP_id_cmd0',\n",
       " 'Last_reply_to_command_CLRSTP_id_cmd0_received',\n",
       " 'Send_command_GETIAS_to_process_issifControl_env._wvgvlti',\n",
       " 'Waiting_(timeout_{})_for_pending_replies_to_command_GETIAS_id_cmd0',\n",
       " 'Last_reply_to_command_GETIAS_id_cmd0_received',\n",
       " 'Stop_Lab_Guiding_(blue)',\n",
       " 'Send_command_GETIAS_to_process_issifControl_env._wvgvlti',\n",
       " 'Waiting_(timeout_{})_for_pending_replies_to_command_GETIAS_id_cmd0',\n",
       " 'Last_reply_to_command_GETIAS_id_cmd0_received',\n",
       " 'IAS_=_IRIS',\n",
       " 'Send_command_STOPLAG_to_process_issifControl_env._wvgvlti',\n",
       " 'Waiting_(timeout_{})_for_pending_replies_to_command_STOPLAG_id_cmd0',\n",
       " 'Last_reply_to_command_STOPLAG_id_cmd0_received',\n",
       " 'Waiting_(timeout_)_for_pending_replies_to_command_id_OK',\n",
       " 'Last_reply_to_command_id_OK_received',\n",
       " 'Lab_Guiding_stopped',\n",
       " 'Creating_Setup_Buffer',\n",
       " 'Adding:_TEL.TARG.ALPHA_{}',\n",
       " 'Adding:_TEL.TARG.ADDVELALPHA_{}',\n",
       " 'Adding:_TEL.TARG.PMA_{}',\n",
       " 'Adding:_TEL.TARG.EPOCH_{}',\n",
       " 'Adding:_TEL.TARG.PMD_{}E-{}',\n",
       " 'Adding:_TEL.TARG.EQUINOX_{}',\n",
       " 'Adding:_TEL.TARG.DELTA_{}',\n",
       " 'Adding:_TEL.TARG.ADDVELDELTA_{}',\n",
       " 'Adding:_COU.AG.TYPE_ADAPT_OPT',\n",
       " 'Adding:_COU.AG.PMA_{}',\n",
       " 'Adding:_COU.AG.DELTA_{}',\n",
       " 'Adding:_COU.AG.ALPHA_{}',\n",
       " 'Adding:_COU.GS.MAG_{}',\n",
       " 'Adding:_COU.AG.EPOCH_{}',\n",
       " 'Adding:_COU.AG.GSSOURCE_SCIENCE',\n",
       " 'Adding:_COU.AG.EQUINOX_{}',\n",
       " 'Adding:_COU.AG.PMD_{}',\n",
       " 'Adding:_DEL.REF.NAME_dl1',\n",
       " 'Adding:_DEL.REF.MODE_AUTO',\n",
       " 'Adding:_DEL.FT.SENSOR_NONE',\n",
       " 'Adding:_DEL.REF.OPL_{}',\n",
       " 'Adding:_ISS.IAS.HMAG_{}',\n",
       " '..._TEL.TARG.EQUINOX_{}_TEL.TARG.DELTA_{}_TEL.TARG.ADDVELDELTA_{}_COU.AG.TYPE_ADAPT_OPT_COU.AG.PMA_{}_COU.AG.DELTA_{}_COU.AG.ALPHA_{}_COU.GS.MAG',\n",
       " '..._{}_COU.AG.EPOCH_{}_COU.AG.GSSOURCE_SCIENCE_COU.AG.EQUINOX_{}_COU.AG.PMD_{}_DEL.REF.NAME_dl1_DEL.REF.MODE_AUTO_DEL.FT.SENSOR_NONE_DEL.REF.OPL_{}_ISS.IAS.HMAG',\n",
       " 'Send_command_SETUP_,,TEL.TARG.TYPE_COORDINATE_TEL.TARG.ALPHA_{}_TEL.TARG.ADDVELALPHA_{}_TEL.TARG.PMA_{}_TEL.TARG.EPOCH_{}_TEL.TARG.PMD_{}E-{}',\n",
       " '..._{}_to_process_issifControl_env._wvgvlti',\n",
       " 'Waiting_(timeout_{})_for_pending_replies_to_command_SETUP_id_cmd0',\n",
       " 'Clean_Logs_:_group_vlt_hour_{}_max._size_{}',\n",
       " 'OBS.EXEC.LOAD_OB_loaded',\n",
       " 'DET.DIT_\"{}\"_->_\"{}\"',\n",
       " 'TPL.CHANGE_template_parameters_have_been_edited',\n",
       " 'TPL.EXEC.START_Template_execution_started',\n",
       " 'OBS.EXEC.START_OB_execution_started',\n",
       " '(OBS.NAME:_ObservationConf_//_OBS.ID:_{})',\n",
       " 'OB_started_at_{}',\n",
       " 'Started_at_{}_(underlined)',\n",
       " 'PIONIER_gen_tec_scan_--_Scanning_mode_setup:_Normal_(yellow)',\n",
       " \"DET_GAIN_=_'HIGH'\",\n",
       " \"DET_TRK_ST_=_'T'\",\n",
       " \"DET_DIT_=_'{}'\",\n",
       " 'INS.LAMP2.STOP_Lamp_turned_off.',\n",
       " 'INS.LAMP1.STOP_Lamp_turned_off.',\n",
       " 'STATUS_-function_INS.MODE_(blue)',\n",
       " \"Send_command_'STATUS'_',INS.MODE,FALSE'_to_sub-system_'ICS'_...\",\n",
       " \"Reply_(not_last)_to_'STATUS'_received:_'INS.MODE_PARK'_(len='{}')(last_reply_will_be_ignored)\",\n",
       " 'INS.MODE_\"PARK\"_(SpringGreen4)',\n",
       " 'beginning_exposure_{}_of_{}_({})_..._(underlined)',\n",
       " 'SETUP_-expoId_{}_-function_INS.MODE_PARK_DET.SCAN.ST_F_(blue)',\n",
       " 'Executing_SETUP_command_...',\n",
       " 'Forward(b)_SETUP_to_DCS',\n",
       " '{}_-_ic0fbInsModel.C:{}:_NOTICE:_Irrelevant_setup_key_received:_INS.SHUT5.ST',\n",
       " '{}_-_ic0fbInsModel.C:{}:_NOTICE:_Irrelevant_setup_key(s)_contained_in_SETUP_buffer:',\n",
       " '{}_-_ic0fbControlSrv.C:{}:_Changing_substate_from:_IDLE_to:_BUSY',\n",
       " 'OBS.EXEC.ABORT_OB_execution_aborted',\n",
       " 'INS.OPTI1.MOVE_Motion_execution.',\n",
       " 'TPL.EXEC.ABORT_template_execution_aborted',\n",
       " 'UNFORSEEN:_template_error',\n",
       " '{}_-_ic0fbiDevDrvDiscreteMotor.C:{}:_CFOU:_Already_in_requested,_named_position:_EMPTY',\n",
       " '{}_-_ic0fbControlSrv.C:{}:_Changing_substate_from:_BUSY_to:_IDLE',\n",
       " 'SETUP_command_done.',\n",
       " '{}_(SpringGreen4)',\n",
       " 'SETUP_-expoId_{}_-function_DET.DIT_{}_DET.TRK.ST_T_DET.TRK.GAIN_{}',\n",
       " '..._DET.POLAR_{}_INS.SHUT1.ST_T_INS.SHUT2.ST_T_INS.SHUT3.ST_T_INS.SHUT4.ST_T_INS.SHUT5.ST_T_(blue)',\n",
       " 'Executing_SETUP_command_...',\n",
       " 'Forward(b)_SETUP_to_DCS',\n",
       " '{}_-_ic0fbInsModel.C:{}:_NOTICE:_Irrelevant_setup_key(s)_contained_in_SETUP_buffer:',\n",
       " '{}_-_ic0fbInsModel.C:{}:_NOTICE:_Irrelevant_setup_key_received:_INS.SHUT5.ST',\n",
       " '{}_-_ic0fbControlSrv.C:{}:_Changing_substate_from:_IDLE_to:_BUSY',\n",
       " '{}_-_ic0fbControlSrv.C:{}:_Changing_substate_from:_BUSY_to:_IDLE',\n",
       " 'SETUP_command_done.',\n",
       " '{}_(SpringGreen4)',\n",
       " 'STATUS_-function_DET.DL.COUNT_(blue)',\n",
       " \"Send_command_'STATUS'_',DET.DL.COUNT,FALSE'_to_sub-system_'DCS'_...\",\n",
       " \"Last_Reply_to_'STATUS'_from_'DCS'_received:_'DET.DL.COUNT_{}'_(len='{}')\",\n",
       " 'DET.DL.COUNT_{}_(SpringGreen4)',\n",
       " 'SETUP_-expoId_{}_-function_DET.SCAN.NREADS_{}_DET.SCAN.DL1.STROKE_-_DET.SCAN.DL2.STROKE_{}_DET.SCAN.DL3.STROKE_DET.SCAN.DL4.STROKE_{}_(blue)',\n",
       " 'Forward(b)_SETUP_to_DCS',\n",
       " 'Executing_SETUP_command_...',\n",
       " 'SETUP_command_done.',\n",
       " '{}_(SpringGreen4)',\n",
       " 'Executing_SETUP_command_...',\n",
       " 'SETUP_-expoId_{}_-function_DET.SCAN.ST_T_(blue)',\n",
       " 'Forward(b)_SETUP_to_DCS',\n",
       " 'pndacqERR_SCAN_SETUP_:_Invalid_setup_for_scan;_at_least_{}_sub-windows_must_be_defined',\n",
       " 'pndacqERR_SCAN_SETUP_:_Invalid_setup_for_scan;_at_least_{}_sub-windows_must_be_defined',\n",
       " 'evhERR_CMD_ERR_REPLY_:_Received_an_error_reply_to_command_SETUP_from_process_pndconServer_on_environment_wpnr',\n",
       " 'evhERR_CMD_ERR_REPLY_:_Received_an_error_reply_to_command_SETUP_from_process_pndconServer_on_environment_wpnr',\n",
       " 'bossERR_SUBSYSTEM_REPLY_:_Error_reply_received_from_sub-system_DCS_for_command_SETUP',\n",
       " 'bossERR_CMD_FAILED_:_Error_during_the_execution_of_command_SETUP.',\n",
       " 'bossERR_CMD_FAILED_:_Error_during_the_execution_of_command_SETUP.',\n",
       " 'bossERR_SUBSYSTEM_REPLY_:_Error_reply_received_from_sub-system_DCS_for_command_SETUP',\n",
       " '##SETUP_command_failed.',\n",
       " 'Error_during_the_execution_of_command_SETUP._(red)',\n",
       " 'Finished_in_{}_seconds_at_{}_(underlined)',\n",
       " 'TplExecTimeStats:_TPL.ID_PIONIER_gen_tec_scan_estimated_{}:{}:{}_real_{}:{}:{}_diff_{}_seconds_({}:{}:{})']"
      ]
     },
     "execution_count": 16,
     "metadata": {},
     "output_type": "execute_result"
    }
   ],
   "source": [
    "#Mostramos los eventos asociados a la trace 0\n",
    "pionier1_SE[0]"
   ]
  },
  {
   "cell_type": "code",
   "execution_count": 17,
   "id": "9e6b83f3",
   "metadata": {},
   "outputs": [
    {
     "data": {
      "text/plain": [
       "0       [Started_at_{}_(underlined), INS_MODE_=_'OBSER...\n",
       "1       [Started_at_{}_(underlined), DPR_CATG_=_'CALIB...\n",
       "2       [Started_at_{}_(underlined), PIONIER_gen_cal_k...\n",
       "3       [PIONIER_gen_cal_dark_--_Dark_calibration_(yel...\n",
       "4       [PIONIER_acq_--_Acquisition_(yellow), Started_...\n",
       "                              ...                        \n",
       "2047    [PIONIER_gen_tec_setup_--_Instrument_setup_(GR...\n",
       "2048    [Started_at_{}_(underlined), PIONIER_gen_tec_n...\n",
       "2049    [PIONIER_gen_tec_setup_--_Instrument_setup_(FR...\n",
       "2050    [Started_at_{}_(underlined), PIONIER_gen_tec_s...\n",
       "2051    [Started_at_{}_(underlined), DET_NDIT_=_'{}', ...\n",
       "Length: 2052, dtype: object"
      ]
     },
     "execution_count": 17,
     "metadata": {},
     "output_type": "execute_result"
    }
   ],
   "source": [
    "#Mostramos toda la data:\n",
    "pionier1_SE"
   ]
  },
  {
   "cell_type": "code",
   "execution_count": 18,
   "id": "94d35b6f",
   "metadata": {},
   "outputs": [],
   "source": [
    "#guardamos nuestra data:\n",
    "file1=open(\"pionier1_SE\",\"wb\")\n",
    "pickle.dump(pionier1_SE,file1)\n",
    "file1.close()"
   ]
  },
  {
   "cell_type": "code",
   "execution_count": 19,
   "id": "3d4a26a0",
   "metadata": {},
   "outputs": [],
   "source": [
    "#pionier1_SE=pickle.load(open(\"pionier1_SE\",\"rb\"))"
   ]
  },
  {
   "cell_type": "markdown",
   "id": "57cbc4a9",
   "metadata": {},
   "source": [
    "Ahora bien, una vez que ya tenemos la información lista para trabajar en el modelo LDA-sklt, corresponde comparar el tamaño de tokens que nos arroja el c_v versus gensim."
   ]
  },
  {
   "cell_type": "code",
   "execution_count": 20,
   "id": "3cc39a97",
   "metadata": {},
   "outputs": [],
   "source": [
    "#Clase del CountVectorizer()\n",
    "vect = CountVectorizer(lowercase=False)\n",
    "#Dejamos todo como str (la info contiene números)\n",
    "pionier1_SE=pionier1_SE.apply(str)\n",
    "\n",
    "#Aplicamos el CV\n",
    "pionier1_SE_vect = vect.fit_transform(pionier1_SE)"
   ]
  },
  {
   "cell_type": "code",
   "execution_count": 21,
   "id": "187aa4f2",
   "metadata": {},
   "outputs": [
    {
     "data": {
      "text/plain": [
       "(2052, 19447)"
      ]
     },
     "execution_count": 21,
     "metadata": {},
     "output_type": "execute_result"
    }
   ],
   "source": [
    "pionier1_SE_vect.toarray()\n",
    "pionier1_SE_vect.shape"
   ]
  },
  {
   "cell_type": "code",
   "execution_count": 22,
   "id": "4cc0e4d0",
   "metadata": {},
   "outputs": [],
   "source": [
    "#vect.get_feature_names_out(pionier1_SE_vect)"
   ]
  },
  {
   "cell_type": "markdown",
   "id": "c3d8e91d",
   "metadata": {},
   "source": [
    "¡Contamos con un total de 19447 tokens únicos!. Veamos ahora Gensim:"
   ]
  },
  {
   "cell_type": "code",
   "execution_count": 24,
   "id": "fef9fd5e",
   "metadata": {},
   "outputs": [
    {
     "name": "stderr",
     "output_type": "stream",
     "text": [
      "INFO:gensim.utils:loading LdaModel object from ../../LDAmodel-gensim/Pionnier/Pioniermodelsave/pionierDT.dictionary\n",
      "INFO:gensim.utils:Dictionary lifecycle event {'fname': '../../LDAmodel-gensim/Pionnier/Pioniermodelsave/pionierDT.dictionary', 'datetime': '2022-03-02T05:03:16.916049', 'gensim': '4.1.2', 'python': '3.10.2 (tags/v3.10.2:a58ebcc, Jan 17 2022, 14:12:15) [MSC v.1929 64 bit (AMD64)]', 'platform': 'Windows-10-10.0.19043-SP0', 'event': 'loaded'}\n",
      "WARNING:root:random_state not set so using default value\n",
      "INFO:root:dtype was not set in saved Dictionary file ../../LDAmodel-gensim/Pionnier/Pioniermodelsave/pionierDT.dictionary, assuming np.float64\n",
      "INFO:gensim.utils:loading LdaState object from ../../LDAmodel-gensim/Pionnier/Pioniermodelsave/pionierDT.dictionary.state\n",
      "WARNING:root:failed to load state from ../../LDAmodel-gensim/Pionnier/Pioniermodelsave/pionierDT.dictionary.state: [Errno 2] No such file or directory: '../../LDAmodel-gensim/Pionnier/Pioniermodelsave/pionierDT.dictionary.state'\n"
     ]
    }
   ],
   "source": [
    "#Cargamos nuestro diccionario creado en LDAPionierfilt\n",
    "dictionary_pionier=models.LdaModel.load(\"../../LDAmodel-gensim/Pionnier/Pioniermodelsave/pionierDT.dictionary\")"
   ]
  },
  {
   "cell_type": "code",
   "execution_count": 25,
   "id": "1ec55d9a",
   "metadata": {},
   "outputs": [
    {
     "name": "stdout",
     "output_type": "stream",
     "text": [
      "Number of uniques tokens: 33499\n"
     ]
    }
   ],
   "source": [
    "print(\"Number of uniques tokens:\",len(dictionary_pionier))"
   ]
  },
  {
   "cell_type": "markdown",
   "id": "03765759",
   "metadata": {},
   "source": [
    "Existe una diferencia de tokens alarmante y es momento de parar y pensar un poco qué está pasando. \n",
    "\n",
    "Nota: Con el objetivo de mostrar todo el proceso de aprendizaje de este método no planeo borrar los errores sino más bien mostrar cómo van surgiendo y cómo se van resolviendo. \n",
    "\n",
    "Lo que está pasando es que si bien haciendo el cambio de \"espacio\" por \" _ \" estamos atendiendo a la búsqueda de la premisa event-tokens, no estamos teniendo en cuenta que la puntuación dentro de cada evento es considerado como un separador de palabras para c_v, por lo que necesitamos atender esta situación para continuar con el proceso. Para ello, definiremos una función tokenizadora que irá implementada a c_v la cual hará que únicamente separe las palabras por medio de espacios (y no por puntuación), pero como nosotros ya nos deshicimos de estos no habría problema. Veamos un ejemplo:"
   ]
  },
  {
   "cell_type": "code",
   "execution_count": 26,
   "id": "b0ce08e9",
   "metadata": {},
   "outputs": [
    {
     "data": {
      "text/plain": [
       "array(['and_this_is_the_third_one',\n",
       "       'this_document_is_the_second_document',\n",
       "       'this_is_the_first_document'], dtype=object)"
      ]
     },
     "execution_count": 26,
     "metadata": {},
     "output_type": "execute_result"
    }
   ],
   "source": [
    "#Como lo estábamos trabajando antes:\n",
    "corpus2 = [\n",
    "    'This_is_the_first_document.',\n",
    "    'This_is_the_first_document.',\n",
    "    'This_document_is_the_second_document.',\n",
    "    'And_this_is_the_third_one.',]\n",
    "\n",
    "#Clase del CountVectorizer()\n",
    "ve = CountVectorizer()\n",
    "#Aplicamos el CV\n",
    "corpus2_ve = ve.fit_transform(corpus2)\n",
    "#Mostramos los nombres:\n",
    "ve.get_feature_names_out()"
   ]
  },
  {
   "cell_type": "markdown",
   "id": "c812602b",
   "metadata": {},
   "source": [
    "Podemos notar cómo los espacios permiten que se respete la premisa event-tokens, pero agreguémosle caracteres especiales y puntuación:"
   ]
  },
  {
   "cell_type": "code",
   "execution_count": 27,
   "id": "cd743f8f",
   "metadata": {},
   "outputs": [
    {
     "data": {
      "text/plain": [
       "array(['and_this_is_the_third_one', 'ent_is_the_second_document',\n",
       "       'first_document', 'this_docum', 'this_is_the_'], dtype=object)"
      ]
     },
     "execution_count": 27,
     "metadata": {},
     "output_type": "execute_result"
    }
   ],
   "source": [
    "corpus2_p = [\n",
    "    'This_is_the_.first_document.',\n",
    "    'This_is_the_{first_document.',\n",
    "    'This_docum.ent_is_the_second_document.',\n",
    "    'And_this_is_the_third_one.',]\n",
    "corpus2_p_ve = ve.fit_transform(corpus2_p)\n",
    "ve.get_feature_names_out(corpus2_p_ve)"
   ]
  },
  {
   "cell_type": "markdown",
   "id": "2cb93ce9",
   "metadata": {},
   "source": [
    "Vemos claramente como la frase 'This_document_is_the_second_document.' la divide en 'this_docum' y 'ent_is_the_second_document.', que es justamente lo que queremos evitar. Implementemos ahora esta función tokenizadora que mencionamos anteriormente:"
   ]
  },
  {
   "cell_type": "code",
   "execution_count": 28,
   "id": "de1bb86f",
   "metadata": {},
   "outputs": [],
   "source": [
    "import re\n",
    "def my_tokenizer(text):\n",
    "    # split based on whitespace\n",
    "    return re.split(\"\\\\s+\",text)"
   ]
  },
  {
   "cell_type": "markdown",
   "id": "7a159230",
   "metadata": {},
   "source": [
    "Veamos qué tal funciona:"
   ]
  },
  {
   "cell_type": "code",
   "execution_count": 29,
   "id": "3967d43c",
   "metadata": {},
   "outputs": [
    {
     "name": "stdout",
     "output_type": "stream",
     "text": [
      "{'this_is_the_.first_document.': 2, 'this_is_the_{first_document.': 3, 'this_docum.ent_is_the_second_document.': 1, 'and_this_is_the_third_one.': 0}\n"
     ]
    }
   ],
   "source": [
    "cv = CountVectorizer(tokenizer=my_tokenizer)\n",
    "corpus2_pnew=cv.fit_transform(corpus2_p)\n",
    "print(cv.vocabulary_)"
   ]
  },
  {
   "cell_type": "markdown",
   "id": "40383e85",
   "metadata": {},
   "source": [
    " ¡Funciona de maravilla!, contamos con un diccionario de 4 elementos aún teniendo puntuación nuestras oraciones, y manteniendo los caracteres especiales (al igual que el gensim). Entonces:\n",
    " \n",
    "    --Reemplazamos los espacios por \" _ \" para evitar la separación de palabra por palabra: *check*\n",
    "    --Evitamos la separación de palabra por palabra a través de la puntuación: *check*\n",
    "    --Conservamos los caracteres especiales: *check*\n",
    "    "
   ]
  },
  {
   "cell_type": "markdown",
   "id": "d9a48068",
   "metadata": {},
   "source": [
    "Apliquemos todo lo anterior a nuestro dataset:"
   ]
  },
  {
   "cell_type": "code",
   "execution_count": 30,
   "id": "4d536a2f",
   "metadata": {},
   "outputs": [],
   "source": [
    "#Clase del CountVectorizer()\n",
    "vecto = CountVectorizer(tokenizer=my_tokenizer,lowercase=False)\n",
    "#Dejamos todo como str (la info contiene números)\n",
    "pionier1_SE=pionier1_SE.apply(str)\n",
    "\n",
    "#Aplicamos el CV\n",
    "pionier1_SE_vecto = vecto.fit_transform(pionier1_SE)"
   ]
  },
  {
   "cell_type": "code",
   "execution_count": 31,
   "id": "7a6a60e2",
   "metadata": {},
   "outputs": [
    {
     "data": {
      "text/plain": [
       "(2052, 33541)"
      ]
     },
     "execution_count": 31,
     "metadata": {},
     "output_type": "execute_result"
    }
   ],
   "source": [
    "pionier1_SE_vecto.toarray()\n",
    "pionier1_SE_vecto.shape"
   ]
  },
  {
   "cell_type": "markdown",
   "id": "50acae90",
   "metadata": {},
   "source": [
    "Mucho mejor, pasamos de 19447 a 33541 tokens. Aún no coincidimos con el diccionario de gensim debido a que LDA-gensim fue ejecutado con información de entrenamiento equivalente al 80% del dataset total. Importemos el modelo LDA-gensim con el dataset total:"
   ]
  },
  {
   "cell_type": "code",
   "execution_count": 32,
   "id": "3a8e7ac0",
   "metadata": {},
   "outputs": [
    {
     "name": "stderr",
     "output_type": "stream",
     "text": [
      "INFO:gensim.utils:loading LdaModel object from ../../LDAmodel-gensim/Pionnier/Pioniermodelsave/pionierDT.dictionary\n",
      "INFO:gensim.utils:Dictionary lifecycle event {'fname': '../../LDAmodel-gensim/Pionnier/Pioniermodelsave/pionierDT.dictionary', 'datetime': '2022-03-02T05:03:55.769394', 'gensim': '4.1.2', 'python': '3.10.2 (tags/v3.10.2:a58ebcc, Jan 17 2022, 14:12:15) [MSC v.1929 64 bit (AMD64)]', 'platform': 'Windows-10-10.0.19043-SP0', 'event': 'loaded'}\n",
      "WARNING:root:random_state not set so using default value\n",
      "INFO:root:dtype was not set in saved Dictionary file ../../LDAmodel-gensim/Pionnier/Pioniermodelsave/pionierDT.dictionary, assuming np.float64\n",
      "INFO:gensim.utils:loading LdaState object from ../../LDAmodel-gensim/Pionnier/Pioniermodelsave/pionierDT.dictionary.state\n",
      "WARNING:root:failed to load state from ../../LDAmodel-gensim/Pionnier/Pioniermodelsave/pionierDT.dictionary.state: [Errno 2] No such file or directory: '../../LDAmodel-gensim/Pionnier/Pioniermodelsave/pionierDT.dictionary.state'\n"
     ]
    }
   ],
   "source": [
    "dictionary_pionier_DT=models.LdaModel.load(\"../../LDAmodel-gensim/Pionnier/Pioniermodelsave/pionierDT.dictionary\")"
   ]
  },
  {
   "cell_type": "code",
   "execution_count": 33,
   "id": "751a68de",
   "metadata": {},
   "outputs": [
    {
     "name": "stdout",
     "output_type": "stream",
     "text": [
      "Number of uniques tokens: 33499\n"
     ]
    }
   ],
   "source": [
    "print(\"Number of uniques tokens:\",len(dictionary_pionier_DT))"
   ]
  },
  {
   "cell_type": "markdown",
   "id": "510e0901",
   "metadata": {},
   "source": [
    "¡Tenemos una diferencia de 42 tokens!. ¿A qué se debe esto?, para ser sincero, no cuento con la respuesta, me imagino que puede ser porque alguna oración terminase con un espacio y el modelo le implementase un \" _ \" al final:"
   ]
  },
  {
   "cell_type": "code",
   "execution_count": 34,
   "id": "e63b9bd1",
   "metadata": {},
   "outputs": [],
   "source": [
    "Frase=['Frase de prueba con espacio al final ','Frase de prueba con espacio al final']\n",
    "Frase_d = list(map(lambda x: x.replace(' ','_'), Frase))"
   ]
  },
  {
   "cell_type": "code",
   "execution_count": 35,
   "id": "9af92dac",
   "metadata": {},
   "outputs": [
    {
     "data": {
      "text/plain": [
       "['Frase_de_prueba_con_espacio_al_final_',\n",
       " 'Frase_de_prueba_con_espacio_al_final']"
      ]
     },
     "execution_count": 35,
     "metadata": {},
     "output_type": "execute_result"
    }
   ],
   "source": [
    "Frase_d"
   ]
  },
  {
   "cell_type": "markdown",
   "id": "db045bbf",
   "metadata": {},
   "source": [
    "La herramienta .strip() (elimina espacios del comienzo y término para cada elemento de una lista) puede ayudarnos en este caso, veamos:   "
   ]
  },
  {
   "cell_type": "code",
   "execution_count": 36,
   "id": "8c2e9994",
   "metadata": {},
   "outputs": [
    {
     "data": {
      "text/plain": [
       "['Frase de prueba con espacio al final',\n",
       " 'Frase de prueba con espacio al final']"
      ]
     },
     "execution_count": 36,
     "metadata": {},
     "output_type": "execute_result"
    }
   ],
   "source": [
    "Frase_dd=list(map(lambda x: x.strip(), Frase))\n",
    "Frase_dd"
   ]
  },
  {
   "cell_type": "markdown",
   "id": "4c7bc0a8",
   "metadata": {},
   "source": [
    "Agreguemos entonces esta herramienta a nuestra función:"
   ]
  },
  {
   "cell_type": "code",
   "execution_count": 37,
   "id": "54ad0c4d",
   "metadata": {},
   "outputs": [],
   "source": [
    "def generate_serie_SES(obs): \n",
    "    #we create the first row for our serie:\n",
    "    firstrow=[]\n",
    "    rows=[]\n",
    "    for a in obs.load_trace(0)[\"event\"]:\n",
    "        firstrow.append(colorize2.color(a))\n",
    "        #borramos el espacio del comienzo y final\n",
    "        firstrow=list(map(lambda x: x.strip(), firstrow))\n",
    "        #hacemos el cambio para la primera fila:\n",
    "        firstrow=list(map(lambda x: x.replace(' ','_'), firstrow))\n",
    "        \n",
    "    #and then we create the serie:\n",
    "    serie= pd.Series([firstrow])\n",
    "    \n",
    "    #Finally we repeat this process to create the entire serie\n",
    "    for i in range(1, len(obs.index)):\n",
    "    \n",
    "        for a in obs.load_trace(i)[\"event\"]:\n",
    "            rows.append(colorize2.color(a))\n",
    "            #borramos el espacio del comienzo y final de los demás\n",
    "            rows=list(map(lambda x: x.strip(), rows))\n",
    "            #Expandimos el cambio para el resto de la data\n",
    "            rows=list(map(lambda x: x.replace(' ','_'), rows))\n",
    "                \n",
    "        serie=serie.append(pd.Series([rows],index=[i]))\n",
    "        rows=[]\n",
    "    \n",
    "    return serie"
   ]
  },
  {
   "cell_type": "code",
   "execution_count": 38,
   "id": "f342911d",
   "metadata": {},
   "outputs": [
    {
     "name": "stdout",
     "output_type": "stream",
     "text": [
      "CPU times: total: 1min 33s\n",
      "Wall time: 1min 33s\n"
     ]
    }
   ],
   "source": [
    "%%time\n",
    "pionier1_SES=generate_serie_SES(pionier1)"
   ]
  },
  {
   "cell_type": "code",
   "execution_count": 41,
   "id": "da3160da",
   "metadata": {},
   "outputs": [],
   "source": [
    "#guardamos nuestra data:\n",
    "file2=open(\"pionier1_SES\",\"wb\")\n",
    "pickle.dump(pionier1_SES,file2)\n",
    "file2.close()"
   ]
  },
  {
   "cell_type": "code",
   "execution_count": null,
   "id": "0bcc232a",
   "metadata": {},
   "outputs": [],
   "source": [
    "##Checkpoint:\n",
    "#pionier1_SES=pickle.load(open(\"pionier1_SES\",\"rb\"))"
   ]
  },
  {
   "cell_type": "code",
   "execution_count": 39,
   "id": "d6af692b",
   "metadata": {},
   "outputs": [],
   "source": [
    "#Clase del CountVectorizer()\n",
    "vecto = CountVectorizer(tokenizer=my_tokenizer,lowercase=False)\n",
    "#Dejamos todo como str (la info contiene números)\n",
    "pionier1_SES=pionier1_SES.apply(str)\n",
    "\n",
    "#Aplicamos el CV\n",
    "pionier1_SES_vecto = vecto.fit_transform(pionier1_SES)"
   ]
  },
  {
   "cell_type": "code",
   "execution_count": 40,
   "id": "7be10706",
   "metadata": {},
   "outputs": [
    {
     "data": {
      "text/plain": [
       "(2052, 33541)"
      ]
     },
     "execution_count": 40,
     "metadata": {},
     "output_type": "execute_result"
    }
   ],
   "source": [
    "pionier1_SES_vecto.toarray()\n",
    "pionier1_SES_vecto.shape"
   ]
  },
  {
   "cell_type": "markdown",
   "id": "2e1c0778",
   "metadata": {},
   "source": [
    "Sigue esta diferencia de 42 tokens, desconozco la razón, pero lo más probable es que sea producto de algún token de frecuencia mínima por lo que no afecta en el desarrollo del modelo."
   ]
  },
  {
   "cell_type": "markdown",
   "id": "3b6bc591",
   "metadata": {},
   "source": [
    "**Apliquemos esto mismo a las otros dataset:**\n",
    "\n",
    "**Matisse**:"
   ]
  },
  {
   "cell_type": "code",
   "execution_count": 240,
   "id": "914a557a",
   "metadata": {},
   "outputs": [
    {
     "data": {
      "text/html": [
       "<div>\n",
       "<style scoped>\n",
       "    .dataframe tbody tr th:only-of-type {\n",
       "        vertical-align: middle;\n",
       "    }\n",
       "\n",
       "    .dataframe tbody tr th {\n",
       "        vertical-align: top;\n",
       "    }\n",
       "\n",
       "    .dataframe thead th {\n",
       "        text-align: right;\n",
       "    }\n",
       "</style>\n",
       "<table border=\"1\" class=\"dataframe\">\n",
       "  <thead>\n",
       "    <tr style=\"text-align: right;\">\n",
       "      <th></th>\n",
       "      <th>START</th>\n",
       "      <th>END</th>\n",
       "      <th>TIMEOUT</th>\n",
       "      <th>system</th>\n",
       "      <th>procname</th>\n",
       "      <th>TPL_ID</th>\n",
       "      <th>ERROR</th>\n",
       "      <th>Aborted</th>\n",
       "      <th>estimated (s)</th>\n",
       "      <th>real (s)</th>\n",
       "      <th>diff (s)</th>\n",
       "      <th>SECONDS</th>\n",
       "    </tr>\n",
       "  </thead>\n",
       "  <tbody>\n",
       "    <tr>\n",
       "      <th>0</th>\n",
       "      <td>2020-12-03 22:28:21.278000+00:00</td>\n",
       "      <td>2020-12-03 22:54:02.577000+00:00</td>\n",
       "      <td>False</td>\n",
       "      <td>MATISSE</td>\n",
       "      <td>bob_ins</td>\n",
       "      <td>MATISSE_gen_tec_ali</td>\n",
       "      <td>False</td>\n",
       "      <td>False</td>\n",
       "      <td>1020</td>\n",
       "      <td>2541</td>\n",
       "      <td>921</td>\n",
       "      <td>1541.0</td>\n",
       "    </tr>\n",
       "    <tr>\n",
       "      <th>1</th>\n",
       "      <td>2020-12-03 22:59:52.185000+00:00</td>\n",
       "      <td>2020-12-03 23:11:34.211000+00:00</td>\n",
       "      <td>False</td>\n",
       "      <td>MATISSE</td>\n",
       "      <td>bob_ins</td>\n",
       "      <td>MATISSE_gen_tec_ali</td>\n",
       "      <td>False</td>\n",
       "      <td>False</td>\n",
       "      <td>1020</td>\n",
       "      <td>1142</td>\n",
       "      <td>82</td>\n",
       "      <td>702.0</td>\n",
       "    </tr>\n",
       "    <tr>\n",
       "      <th>2</th>\n",
       "      <td>2020-12-04 18:12:58.130000+00:00</td>\n",
       "      <td>2020-12-04 18:33:35.254000+00:00</td>\n",
       "      <td>False</td>\n",
       "      <td>MATISSE</td>\n",
       "      <td>bob_ins</td>\n",
       "      <td>MATISSE_gen_tec_ali</td>\n",
       "      <td>False</td>\n",
       "      <td>False</td>\n",
       "      <td>900</td>\n",
       "      <td>2037</td>\n",
       "      <td>697</td>\n",
       "      <td>1237.0</td>\n",
       "    </tr>\n",
       "    <tr>\n",
       "      <th>3</th>\n",
       "      <td>2020-12-04 18:34:19.053000+00:00</td>\n",
       "      <td>2020-12-04 18:34:57.750000+00:00</td>\n",
       "      <td>False</td>\n",
       "      <td>MATISSE</td>\n",
       "      <td>bob_ins</td>\n",
       "      <td>MATISSE_gen_tec_ali</td>\n",
       "      <td>False</td>\n",
       "      <td>False</td>\n",
       "      <td>900</td>\n",
       "      <td>38</td>\n",
       "      <td>502</td>\n",
       "      <td>38.0</td>\n",
       "    </tr>\n",
       "    <tr>\n",
       "      <th>5</th>\n",
       "      <td>2020-12-04 18:37:24.312000+00:00</td>\n",
       "      <td>2020-12-04 18:41:29.024000+00:00</td>\n",
       "      <td>False</td>\n",
       "      <td>MATISSE</td>\n",
       "      <td>bob_ins</td>\n",
       "      <td>MATISSE_gen_tec_opd</td>\n",
       "      <td>False</td>\n",
       "      <td>False</td>\n",
       "      <td>320</td>\n",
       "      <td>405</td>\n",
       "      <td>45</td>\n",
       "      <td>244.0</td>\n",
       "    </tr>\n",
       "    <tr>\n",
       "      <th>...</th>\n",
       "      <td>...</td>\n",
       "      <td>...</td>\n",
       "      <td>...</td>\n",
       "      <td>...</td>\n",
       "      <td>...</td>\n",
       "      <td>...</td>\n",
       "      <td>...</td>\n",
       "      <td>...</td>\n",
       "      <td>...</td>\n",
       "      <td>...</td>\n",
       "      <td>...</td>\n",
       "      <td>...</td>\n",
       "    </tr>\n",
       "    <tr>\n",
       "      <th>1311</th>\n",
       "      <td>2021-01-01 20:15:23.694000+00:00</td>\n",
       "      <td>2021-01-01 20:26:46.564000+00:00</td>\n",
       "      <td>False</td>\n",
       "      <td>MATISSE</td>\n",
       "      <td>bob_ins</td>\n",
       "      <td>MATISSE_gen_tec_ali</td>\n",
       "      <td>False</td>\n",
       "      <td>False</td>\n",
       "      <td>1020</td>\n",
       "      <td>1123</td>\n",
       "      <td>63</td>\n",
       "      <td>682.0</td>\n",
       "    </tr>\n",
       "    <tr>\n",
       "      <th>1312</th>\n",
       "      <td>2021-01-01 20:30:27.665000+00:00</td>\n",
       "      <td>2021-01-01 20:33:40.689000+00:00</td>\n",
       "      <td>False</td>\n",
       "      <td>MATISSE</td>\n",
       "      <td>bob_ins</td>\n",
       "      <td>MATISSE_gen_tec_opd</td>\n",
       "      <td>False</td>\n",
       "      <td>False</td>\n",
       "      <td>320</td>\n",
       "      <td>313</td>\n",
       "      <td>7</td>\n",
       "      <td>193.0</td>\n",
       "    </tr>\n",
       "    <tr>\n",
       "      <th>1313</th>\n",
       "      <td>2021-01-01 20:33:40.733000+00:00</td>\n",
       "      <td>2021-01-01 20:34:19.906000+00:00</td>\n",
       "      <td>False</td>\n",
       "      <td>MATISSE</td>\n",
       "      <td>bob_ins</td>\n",
       "      <td>MATISSE_gen_tec_opd</td>\n",
       "      <td>False</td>\n",
       "      <td>False</td>\n",
       "      <td>130</td>\n",
       "      <td>39</td>\n",
       "      <td>51</td>\n",
       "      <td>39.0</td>\n",
       "    </tr>\n",
       "    <tr>\n",
       "      <th>1314</th>\n",
       "      <td>2021-01-01 20:34:19.936000+00:00</td>\n",
       "      <td>2021-01-01 20:37:26.449000+00:00</td>\n",
       "      <td>False</td>\n",
       "      <td>MATISSE</td>\n",
       "      <td>bob_ins</td>\n",
       "      <td>MATISSE_gen_tec_opd</td>\n",
       "      <td>False</td>\n",
       "      <td>False</td>\n",
       "      <td>320</td>\n",
       "      <td>307</td>\n",
       "      <td>13</td>\n",
       "      <td>186.0</td>\n",
       "    </tr>\n",
       "    <tr>\n",
       "      <th>1315</th>\n",
       "      <td>2021-01-01 20:37:26.482000+00:00</td>\n",
       "      <td>2021-01-01 20:38:06.413000+00:00</td>\n",
       "      <td>False</td>\n",
       "      <td>MATISSE</td>\n",
       "      <td>bob_ins</td>\n",
       "      <td>MATISSE_gen_tec_opd</td>\n",
       "      <td>False</td>\n",
       "      <td>False</td>\n",
       "      <td>130</td>\n",
       "      <td>40</td>\n",
       "      <td>50</td>\n",
       "      <td>39.0</td>\n",
       "    </tr>\n",
       "  </tbody>\n",
       "</table>\n",
       "<p>1180 rows × 12 columns</p>\n",
       "</div>"
      ],
      "text/plain": [
       "                                START                              END  \\\n",
       "0    2020-12-03 22:28:21.278000+00:00 2020-12-03 22:54:02.577000+00:00   \n",
       "1    2020-12-03 22:59:52.185000+00:00 2020-12-03 23:11:34.211000+00:00   \n",
       "2    2020-12-04 18:12:58.130000+00:00 2020-12-04 18:33:35.254000+00:00   \n",
       "3    2020-12-04 18:34:19.053000+00:00 2020-12-04 18:34:57.750000+00:00   \n",
       "5    2020-12-04 18:37:24.312000+00:00 2020-12-04 18:41:29.024000+00:00   \n",
       "...                               ...                              ...   \n",
       "1311 2021-01-01 20:15:23.694000+00:00 2021-01-01 20:26:46.564000+00:00   \n",
       "1312 2021-01-01 20:30:27.665000+00:00 2021-01-01 20:33:40.689000+00:00   \n",
       "1313 2021-01-01 20:33:40.733000+00:00 2021-01-01 20:34:19.906000+00:00   \n",
       "1314 2021-01-01 20:34:19.936000+00:00 2021-01-01 20:37:26.449000+00:00   \n",
       "1315 2021-01-01 20:37:26.482000+00:00 2021-01-01 20:38:06.413000+00:00   \n",
       "\n",
       "      TIMEOUT   system procname               TPL_ID  ERROR  Aborted  \\\n",
       "0       False  MATISSE  bob_ins  MATISSE_gen_tec_ali  False    False   \n",
       "1       False  MATISSE  bob_ins  MATISSE_gen_tec_ali  False    False   \n",
       "2       False  MATISSE  bob_ins  MATISSE_gen_tec_ali  False    False   \n",
       "3       False  MATISSE  bob_ins  MATISSE_gen_tec_ali  False    False   \n",
       "5       False  MATISSE  bob_ins  MATISSE_gen_tec_opd  False    False   \n",
       "...       ...      ...      ...                  ...    ...      ...   \n",
       "1311    False  MATISSE  bob_ins  MATISSE_gen_tec_ali  False    False   \n",
       "1312    False  MATISSE  bob_ins  MATISSE_gen_tec_opd  False    False   \n",
       "1313    False  MATISSE  bob_ins  MATISSE_gen_tec_opd  False    False   \n",
       "1314    False  MATISSE  bob_ins  MATISSE_gen_tec_opd  False    False   \n",
       "1315    False  MATISSE  bob_ins  MATISSE_gen_tec_opd  False    False   \n",
       "\n",
       "      estimated (s)  real (s)  diff (s)  SECONDS  \n",
       "0              1020      2541       921   1541.0  \n",
       "1              1020      1142        82    702.0  \n",
       "2               900      2037       697   1237.0  \n",
       "3               900        38       502     38.0  \n",
       "5               320       405        45    244.0  \n",
       "...             ...       ...       ...      ...  \n",
       "1311           1020      1123        63    682.0  \n",
       "1312            320       313         7    193.0  \n",
       "1313            130        39        51     39.0  \n",
       "1314            320       307        13    186.0  \n",
       "1315            130        40        50     39.0  \n",
       "\n",
       "[1180 rows x 12 columns]"
      ]
     },
     "execution_count": 240,
     "metadata": {},
     "output_type": "execute_result"
    }
   ],
   "source": [
    "Matisse1=TplMatisse(config=config.ds_medium)\n",
    "# Some rows are small (<5 sec) or unbounded (>30m), this criteria will restrict to only the good ones\n",
    "Matisse1.index = Matisse1.index[Matisse1.index[\"SECONDS\"] > 5]\n",
    "Matisse1.index = Matisse1.index[Matisse1.index[\"SECONDS\"] < 1800]\n",
    "Matisse1.index"
   ]
  },
  {
   "cell_type": "code",
   "execution_count": 242,
   "id": "876376d7",
   "metadata": {},
   "outputs": [
    {
     "name": "stdout",
     "output_type": "stream",
     "text": [
      "CPU times: total: 8min 59s\n",
      "Wall time: 9min 9s\n"
     ]
    }
   ],
   "source": [
    "%%time\n",
    "Matisse1_SES=generate_serie_SES(Matisse1)"
   ]
  },
  {
   "cell_type": "code",
   "execution_count": 243,
   "id": "992d8908",
   "metadata": {},
   "outputs": [],
   "source": [
    "#Clase del CountVectorizer()\n",
    "vecto = CountVectorizer(tokenizer=my_tokenizer,lowercase=False)\n",
    "#Dejamos todo como str (la info contiene números)\n",
    "Matisse1_SES=Matisse1_SES.apply(str)\n",
    "\n",
    "#Aplicamos el CV\n",
    "Matisse1_SES_vecto = vecto.fit_transform(Matisse1_SES)"
   ]
  },
  {
   "cell_type": "code",
   "execution_count": 244,
   "id": "f02f22b7",
   "metadata": {},
   "outputs": [
    {
     "data": {
      "text/plain": [
       "(1180, 79900)"
      ]
     },
     "execution_count": 244,
     "metadata": {},
     "output_type": "execute_result"
    }
   ],
   "source": [
    "Matisse1_SES_vecto.toarray()\n",
    "Matisse1_SES_vecto.shape\n",
    "#79900 tokens"
   ]
  },
  {
   "cell_type": "code",
   "execution_count": 246,
   "id": "837bbd17",
   "metadata": {},
   "outputs": [
    {
     "name": "stderr",
     "output_type": "stream",
     "text": [
      "INFO:gensim.utils:loading LdaModel object from ../Matisse/Matissemodelsave/matisseDT.dictionary\n",
      "INFO:gensim.utils:Dictionary lifecycle event {'fname': '../Matisse/Matissemodelsave/matisseDT.dictionary', 'datetime': '2022-03-02T02:43:07.881528', 'gensim': '4.1.2', 'python': '3.10.2 (tags/v3.10.2:a58ebcc, Jan 17 2022, 14:12:15) [MSC v.1929 64 bit (AMD64)]', 'platform': 'Windows-10-10.0.19043-SP0', 'event': 'loaded'}\n",
      "WARNING:root:random_state not set so using default value\n",
      "INFO:root:dtype was not set in saved Dictionary file ../Matisse/Matissemodelsave/matisseDT.dictionary, assuming np.float64\n",
      "INFO:gensim.utils:loading LdaState object from ../Matisse/Matissemodelsave/matisseDT.dictionary.state\n",
      "WARNING:root:failed to load state from ../Matisse/Matissemodelsave/matisseDT.dictionary.state: [Errno 2] No such file or directory: '../Matisse/Matissemodelsave/matisseDT.dictionary.state'\n"
     ]
    }
   ],
   "source": [
    "#importamos el modelo en gensim\n",
    "dictionary_matisse_DT=models.LdaModel.load(\"../Matisse/Matissemodelsave/matisseDT.dictionary\")"
   ]
  },
  {
   "cell_type": "code",
   "execution_count": 247,
   "id": "2ccc5f22",
   "metadata": {},
   "outputs": [
    {
     "name": "stdout",
     "output_type": "stream",
     "text": [
      "Number of uniques tokens: 79846\n"
     ]
    }
   ],
   "source": [
    "print(\"Number of uniques tokens:\",len(dictionary_matisse_DT))"
   ]
  },
  {
   "cell_type": "markdown",
   "id": "e1ada081",
   "metadata": {},
   "source": [
    "**Gravity**:"
   ]
  },
  {
   "cell_type": "code",
   "execution_count": 249,
   "id": "254367ed",
   "metadata": {},
   "outputs": [
    {
     "data": {
      "text/html": [
       "<div>\n",
       "<style scoped>\n",
       "    .dataframe tbody tr th:only-of-type {\n",
       "        vertical-align: middle;\n",
       "    }\n",
       "\n",
       "    .dataframe tbody tr th {\n",
       "        vertical-align: top;\n",
       "    }\n",
       "\n",
       "    .dataframe thead th {\n",
       "        text-align: right;\n",
       "    }\n",
       "</style>\n",
       "<table border=\"1\" class=\"dataframe\">\n",
       "  <thead>\n",
       "    <tr style=\"text-align: right;\">\n",
       "      <th></th>\n",
       "      <th>START</th>\n",
       "      <th>END</th>\n",
       "      <th>TIMEOUT</th>\n",
       "      <th>system</th>\n",
       "      <th>procname</th>\n",
       "      <th>TPL_ID</th>\n",
       "      <th>ERROR</th>\n",
       "      <th>Aborted</th>\n",
       "      <th>estimated (s)</th>\n",
       "      <th>real (s)</th>\n",
       "      <th>diff (s)</th>\n",
       "      <th>SECONDS</th>\n",
       "    </tr>\n",
       "  </thead>\n",
       "  <tbody>\n",
       "    <tr>\n",
       "      <th>0</th>\n",
       "      <td>2020-12-01 00:16:04.547000+00:00</td>\n",
       "      <td>2020-12-01 00:19:11.750000+00:00</td>\n",
       "      <td>False</td>\n",
       "      <td>GRAVITY</td>\n",
       "      <td>bob_4415</td>\n",
       "      <td>GRAVITY_dual_obs_exp</td>\n",
       "      <td>False</td>\n",
       "      <td>False</td>\n",
       "      <td>227</td>\n",
       "      <td>307</td>\n",
       "      <td>40</td>\n",
       "      <td>187.0</td>\n",
       "    </tr>\n",
       "    <tr>\n",
       "      <th>1</th>\n",
       "      <td>2020-12-01 00:19:11.804000+00:00</td>\n",
       "      <td>2020-12-01 00:23:49.341000+00:00</td>\n",
       "      <td>False</td>\n",
       "      <td>GRAVITY</td>\n",
       "      <td>bob_4415</td>\n",
       "      <td>GRAVITY_dual_obs_swap</td>\n",
       "      <td>False</td>\n",
       "      <td>False</td>\n",
       "      <td>500</td>\n",
       "      <td>438</td>\n",
       "      <td>22</td>\n",
       "      <td>277.0</td>\n",
       "    </tr>\n",
       "    <tr>\n",
       "      <th>2</th>\n",
       "      <td>2020-12-01 00:23:49.411000+00:00</td>\n",
       "      <td>2020-12-01 00:25:34.908000+00:00</td>\n",
       "      <td>False</td>\n",
       "      <td>GRAVITY</td>\n",
       "      <td>bob_4415</td>\n",
       "      <td>GRAVITY_dual_obs_exp</td>\n",
       "      <td>False</td>\n",
       "      <td>False</td>\n",
       "      <td>138</td>\n",
       "      <td>145</td>\n",
       "      <td>7</td>\n",
       "      <td>105.0</td>\n",
       "    </tr>\n",
       "    <tr>\n",
       "      <th>3</th>\n",
       "      <td>2020-12-01 00:25:34.967000+00:00</td>\n",
       "      <td>2020-12-01 00:29:33.402000+00:00</td>\n",
       "      <td>False</td>\n",
       "      <td>GRAVITY</td>\n",
       "      <td>bob_4415</td>\n",
       "      <td>GRAVITY_dual_obs_swap</td>\n",
       "      <td>False</td>\n",
       "      <td>False</td>\n",
       "      <td>500</td>\n",
       "      <td>359</td>\n",
       "      <td>61</td>\n",
       "      <td>238.0</td>\n",
       "    </tr>\n",
       "    <tr>\n",
       "      <th>4</th>\n",
       "      <td>2020-12-01 00:29:33.453000+00:00</td>\n",
       "      <td>2020-12-01 00:31:18.444000+00:00</td>\n",
       "      <td>False</td>\n",
       "      <td>GRAVITY</td>\n",
       "      <td>bob_4415</td>\n",
       "      <td>GRAVITY_dual_obs_exp</td>\n",
       "      <td>False</td>\n",
       "      <td>False</td>\n",
       "      <td>138</td>\n",
       "      <td>145</td>\n",
       "      <td>7</td>\n",
       "      <td>104.0</td>\n",
       "    </tr>\n",
       "    <tr>\n",
       "      <th>...</th>\n",
       "      <td>...</td>\n",
       "      <td>...</td>\n",
       "      <td>...</td>\n",
       "      <td>...</td>\n",
       "      <td>...</td>\n",
       "      <td>...</td>\n",
       "      <td>...</td>\n",
       "      <td>...</td>\n",
       "      <td>...</td>\n",
       "      <td>...</td>\n",
       "      <td>...</td>\n",
       "      <td>...</td>\n",
       "    </tr>\n",
       "    <tr>\n",
       "      <th>1242</th>\n",
       "      <td>2021-01-01 19:55:07.919000+00:00</td>\n",
       "      <td>2021-01-01 19:59:19.367000+00:00</td>\n",
       "      <td>False</td>\n",
       "      <td>GRAVITY</td>\n",
       "      <td>bob_28479</td>\n",
       "      <td>GRAVITY_gen_tec_AcqFibA</td>\n",
       "      <td>False</td>\n",
       "      <td>False</td>\n",
       "      <td>400</td>\n",
       "      <td>412</td>\n",
       "      <td>12</td>\n",
       "      <td>251.0</td>\n",
       "    </tr>\n",
       "    <tr>\n",
       "      <th>1243</th>\n",
       "      <td>2021-01-01 19:59:19.458000+00:00</td>\n",
       "      <td>2021-01-01 20:10:17.247000+00:00</td>\n",
       "      <td>False</td>\n",
       "      <td>GRAVITY</td>\n",
       "      <td>bob_28479</td>\n",
       "      <td>GRAVITY_gen_tec_AcqFibB</td>\n",
       "      <td>False</td>\n",
       "      <td>False</td>\n",
       "      <td>1125</td>\n",
       "      <td>1058</td>\n",
       "      <td>27</td>\n",
       "      <td>657.0</td>\n",
       "    </tr>\n",
       "    <tr>\n",
       "      <th>1245</th>\n",
       "      <td>2021-01-01 20:10:20.661000+00:00</td>\n",
       "      <td>2021-01-01 20:11:58.709000+00:00</td>\n",
       "      <td>False</td>\n",
       "      <td>GRAVITY</td>\n",
       "      <td>bob_28479</td>\n",
       "      <td>GRAVITY_gen_tec_PTref</td>\n",
       "      <td>False</td>\n",
       "      <td>False</td>\n",
       "      <td>135</td>\n",
       "      <td>138</td>\n",
       "      <td>3</td>\n",
       "      <td>98.0</td>\n",
       "    </tr>\n",
       "    <tr>\n",
       "      <th>1246</th>\n",
       "      <td>2021-01-01 20:11:58.798000+00:00</td>\n",
       "      <td>2021-01-01 20:13:26.902000+00:00</td>\n",
       "      <td>False</td>\n",
       "      <td>GRAVITY</td>\n",
       "      <td>bob_28479</td>\n",
       "      <td>GRAVITY_gen_tec_WFSref</td>\n",
       "      <td>False</td>\n",
       "      <td>False</td>\n",
       "      <td>123</td>\n",
       "      <td>128</td>\n",
       "      <td>5</td>\n",
       "      <td>88.0</td>\n",
       "    </tr>\n",
       "    <tr>\n",
       "      <th>1247</th>\n",
       "      <td>2021-01-01 20:13:26.983000+00:00</td>\n",
       "      <td>2021-01-01 20:14:47.953000+00:00</td>\n",
       "      <td>False</td>\n",
       "      <td>GRAVITY</td>\n",
       "      <td>bob_28479</td>\n",
       "      <td>GRAVITY_gen_tec_SaveDb</td>\n",
       "      <td>False</td>\n",
       "      <td>False</td>\n",
       "      <td>120</td>\n",
       "      <td>121</td>\n",
       "      <td>1</td>\n",
       "      <td>80.0</td>\n",
       "    </tr>\n",
       "  </tbody>\n",
       "</table>\n",
       "<p>992 rows × 12 columns</p>\n",
       "</div>"
      ],
      "text/plain": [
       "                                START                              END  \\\n",
       "0    2020-12-01 00:16:04.547000+00:00 2020-12-01 00:19:11.750000+00:00   \n",
       "1    2020-12-01 00:19:11.804000+00:00 2020-12-01 00:23:49.341000+00:00   \n",
       "2    2020-12-01 00:23:49.411000+00:00 2020-12-01 00:25:34.908000+00:00   \n",
       "3    2020-12-01 00:25:34.967000+00:00 2020-12-01 00:29:33.402000+00:00   \n",
       "4    2020-12-01 00:29:33.453000+00:00 2020-12-01 00:31:18.444000+00:00   \n",
       "...                               ...                              ...   \n",
       "1242 2021-01-01 19:55:07.919000+00:00 2021-01-01 19:59:19.367000+00:00   \n",
       "1243 2021-01-01 19:59:19.458000+00:00 2021-01-01 20:10:17.247000+00:00   \n",
       "1245 2021-01-01 20:10:20.661000+00:00 2021-01-01 20:11:58.709000+00:00   \n",
       "1246 2021-01-01 20:11:58.798000+00:00 2021-01-01 20:13:26.902000+00:00   \n",
       "1247 2021-01-01 20:13:26.983000+00:00 2021-01-01 20:14:47.953000+00:00   \n",
       "\n",
       "      TIMEOUT   system   procname                   TPL_ID  ERROR  Aborted  \\\n",
       "0       False  GRAVITY   bob_4415     GRAVITY_dual_obs_exp  False    False   \n",
       "1       False  GRAVITY   bob_4415    GRAVITY_dual_obs_swap  False    False   \n",
       "2       False  GRAVITY   bob_4415     GRAVITY_dual_obs_exp  False    False   \n",
       "3       False  GRAVITY   bob_4415    GRAVITY_dual_obs_swap  False    False   \n",
       "4       False  GRAVITY   bob_4415     GRAVITY_dual_obs_exp  False    False   \n",
       "...       ...      ...        ...                      ...    ...      ...   \n",
       "1242    False  GRAVITY  bob_28479  GRAVITY_gen_tec_AcqFibA  False    False   \n",
       "1243    False  GRAVITY  bob_28479  GRAVITY_gen_tec_AcqFibB  False    False   \n",
       "1245    False  GRAVITY  bob_28479    GRAVITY_gen_tec_PTref  False    False   \n",
       "1246    False  GRAVITY  bob_28479   GRAVITY_gen_tec_WFSref  False    False   \n",
       "1247    False  GRAVITY  bob_28479   GRAVITY_gen_tec_SaveDb  False    False   \n",
       "\n",
       "      estimated (s)  real (s)  diff (s)  SECONDS  \n",
       "0               227       307        40    187.0  \n",
       "1               500       438        22    277.0  \n",
       "2               138       145         7    105.0  \n",
       "3               500       359        61    238.0  \n",
       "4               138       145         7    104.0  \n",
       "...             ...       ...       ...      ...  \n",
       "1242            400       412        12    251.0  \n",
       "1243           1125      1058        27    657.0  \n",
       "1245            135       138         3     98.0  \n",
       "1246            123       128         5     88.0  \n",
       "1247            120       121         1     80.0  \n",
       "\n",
       "[992 rows x 12 columns]"
      ]
     },
     "execution_count": 249,
     "metadata": {},
     "output_type": "execute_result"
    }
   ],
   "source": [
    "gravity1=TplGravity(config=config.ds_medium)\n",
    "# Some rows are small (<5 sec) or unbounded (>30m), this criteria will restrict to only the good ones\n",
    "gravity1.index = gravity1.index[gravity1.index[\"SECONDS\"] > 5]\n",
    "gravity1.index = gravity1.index[gravity1.index[\"SECONDS\"] < 1800]\n",
    "gravity1.index"
   ]
  },
  {
   "cell_type": "code",
   "execution_count": 250,
   "id": "3a7bd2dc",
   "metadata": {},
   "outputs": [
    {
     "name": "stdout",
     "output_type": "stream",
     "text": [
      "CPU times: total: 19min 6s\n",
      "Wall time: 19min 20s\n"
     ]
    }
   ],
   "source": [
    "%%time\n",
    "gravity1_SES=generate_serie_SES(gravity1)"
   ]
  },
  {
   "cell_type": "code",
   "execution_count": 251,
   "id": "d88166c2",
   "metadata": {},
   "outputs": [],
   "source": [
    "#Clase del CountVectorizer()\n",
    "vecto = CountVectorizer(tokenizer=my_tokenizer,lowercase=False)\n",
    "#Dejamos todo como str (la info contiene números)\n",
    "gravity1_SES=gravity1_SES.apply(str)\n",
    "\n",
    "#Aplicamos el CV\n",
    "gravity1_SES_vecto = vecto.fit_transform(gravity1_SES)"
   ]
  },
  {
   "cell_type": "code",
   "execution_count": 252,
   "id": "6d1c0c40",
   "metadata": {},
   "outputs": [
    {
     "data": {
      "text/plain": [
       "(992, 12940)"
      ]
     },
     "execution_count": 252,
     "metadata": {},
     "output_type": "execute_result"
    }
   ],
   "source": [
    "gravity1_SES_vecto.toarray()\n",
    "gravity1_SES_vecto.shape\n",
    "#79900 tokens"
   ]
  },
  {
   "cell_type": "code",
   "execution_count": 253,
   "id": "9aaa5f60",
   "metadata": {},
   "outputs": [
    {
     "name": "stderr",
     "output_type": "stream",
     "text": [
      "INFO:gensim.utils:loading LdaModel object from ../Gravity/Gravitymodelsave/gravityDT.dictionary\n",
      "INFO:gensim.utils:Dictionary lifecycle event {'fname': '../Gravity/Gravitymodelsave/gravityDT.dictionary', 'datetime': '2022-03-02T03:40:41.194702', 'gensim': '4.1.2', 'python': '3.10.2 (tags/v3.10.2:a58ebcc, Jan 17 2022, 14:12:15) [MSC v.1929 64 bit (AMD64)]', 'platform': 'Windows-10-10.0.19043-SP0', 'event': 'loaded'}\n",
      "WARNING:root:random_state not set so using default value\n",
      "INFO:root:dtype was not set in saved Dictionary file ../Gravity/Gravitymodelsave/gravityDT.dictionary, assuming np.float64\n",
      "INFO:gensim.utils:loading LdaState object from ../Gravity/Gravitymodelsave/gravityDT.dictionary.state\n",
      "WARNING:root:failed to load state from ../Gravity/Gravitymodelsave/gravityDT.dictionary.state: [Errno 2] No such file or directory: '../Gravity/Gravitymodelsave/gravityDT.dictionary.state'\n"
     ]
    }
   ],
   "source": [
    "#importamos el modelo en gensim\n",
    "dictionary_gravity_DT=models.LdaModel.load(\"../Gravity/Gravitymodelsave/gravityDT.dictionary\")"
   ]
  },
  {
   "cell_type": "code",
   "execution_count": 255,
   "id": "619ee044",
   "metadata": {},
   "outputs": [
    {
     "name": "stdout",
     "output_type": "stream",
     "text": [
      "Number of uniques tokens: 12903\n"
     ]
    }
   ],
   "source": [
    "print(\"Number of uniques tokens:\",len(dictionary_gravity_DT))"
   ]
  },
  {
   "cell_type": "markdown",
   "id": "ba49b8c5",
   "metadata": {},
   "source": [
    "#### Como ya disponemos de la teoría, veamos en la práctica"
   ]
  }
 ],
 "metadata": {
  "kernelspec": {
   "display_name": "Python 3 (ipykernel)",
   "language": "python",
   "name": "python3"
  },
  "language_info": {
   "codemirror_mode": {
    "name": "ipython",
    "version": 3
   },
   "file_extension": ".py",
   "mimetype": "text/x-python",
   "name": "python",
   "nbconvert_exporter": "python",
   "pygments_lexer": "ipython3",
   "version": "3.10.2"
  }
 },
 "nbformat": 4,
 "nbformat_minor": 5
}
